{
 "cells": [
  {
   "cell_type": "code",
   "execution_count": 54,
   "metadata": {
    "_cell_guid": "b1076dfc-b9ad-4769-8c92-a6c4dae69d19",
    "_uuid": "8f2839f25d086af736a60e9eeb907d3b93b6e0e5"
   },
   "outputs": [
    {
     "name": "stdout",
     "output_type": "stream",
     "text": [
      "['train.csv', 'test.csv']\n"
     ]
    }
   ],
   "source": [
    "import numpy as np \n",
    "import pandas as pd \n",
    "import os\n",
    "import seaborn as sns\n",
    "import matplotlib.pyplot as plt\n",
    "print(os.listdir(\"../input\"))"
   ]
  },
  {
   "cell_type": "code",
   "execution_count": 55,
   "metadata": {
    "_cell_guid": "79c7e3d0-c299-4dcb-8224-4455121ee9b0",
    "_uuid": "d629ff2d2480ee46fbb7e2d37f6b5fab8052498a",
    "collapsed": true
   },
   "outputs": [],
   "source": [
    "df = pd.read_csv(\"../input/train.csv\")\n",
    "test = pd.read_csv(\"../input/test.csv\")"
   ]
  },
  {
   "cell_type": "code",
   "execution_count": 57,
   "metadata": {
    "_uuid": "6708e39c338fb2297618f41856b8679b26694734"
   },
   "outputs": [
    {
     "name": "stdout",
     "output_type": "stream",
     "text": [
      "['STANDING' 'SITTING' 'LAYING' 'WALKING' 'WALKING_DOWNSTAIRS'\n",
      " 'WALKING_UPSTAIRS']\n",
      "----------------------------------------\n",
      "LAYING                1407\n",
      "STANDING              1374\n",
      "SITTING               1286\n",
      "WALKING               1226\n",
      "WALKING_UPSTAIRS      1073\n",
      "WALKING_DOWNSTAIRS     986\n",
      "Name: Activity, dtype: int64\n"
     ]
    }
   ],
   "source": [
    "print(df.Activity.unique())\n",
    "print(\"----------------------------------------\")\n",
    "print(df.Activity.value_counts())"
   ]
  },
  {
   "cell_type": "code",
   "execution_count": 60,
   "metadata": {
    "_uuid": "ac2dbffd475f23b689b7729bf9a5342dfb69bfaa"
   },
   "outputs": [
    {
     "name": "stdout",
     "output_type": "stream",
     "text": [
      "(7352, 563) (2947, 563)\n"
     ]
    }
   ],
   "source": [
    "print(df.shape , test.shape)"
   ]
  },
  {
   "cell_type": "code",
   "execution_count": 61,
   "metadata": {
    "_uuid": "25cec364ffbdbf82e0efd2840dc63fd5ad88d372"
   },
   "outputs": [
    {
     "data": {
      "text/plain": [
       "Index(['tBodyAcc-mean()-X', 'tBodyAcc-mean()-Y', 'tBodyAcc-mean()-Z',\n",
       "       'tBodyAcc-std()-X', 'tBodyAcc-std()-Y', 'tBodyAcc-std()-Z',\n",
       "       'tBodyAcc-mad()-X', 'tBodyAcc-mad()-Y', 'tBodyAcc-mad()-Z',\n",
       "       'tBodyAcc-max()-X',\n",
       "       ...\n",
       "       'fBodyBodyGyroJerkMag-kurtosis()', 'angle(tBodyAccMean,gravity)',\n",
       "       'angle(tBodyAccJerkMean),gravityMean)',\n",
       "       'angle(tBodyGyroMean,gravityMean)',\n",
       "       'angle(tBodyGyroJerkMean,gravityMean)', 'angle(X,gravityMean)',\n",
       "       'angle(Y,gravityMean)', 'angle(Z,gravityMean)', 'subject', 'Activity'],\n",
       "      dtype='object', length=563)"
      ]
     },
     "execution_count": 61,
     "metadata": {},
     "output_type": "execute_result"
    }
   ],
   "source": [
    "df.columns"
   ]
  },
  {
   "cell_type": "code",
   "execution_count": 69,
   "metadata": {
    "_uuid": "f43e549c0726be85502d45b2cedd3429f16a3afe"
   },
   "outputs": [
    {
     "name": "stdout",
     "output_type": "stream",
     "text": [
      "[[0.64429225 0.48985291 0.43354743 ... 0.79825103 0.47068654 0.        ]\n",
      " [0.63920942 0.49179472 0.4382399  ... 0.79848665 0.47284164 0.        ]\n",
      " [0.63982653 0.49026642 0.44326915 ... 0.79872236 0.47544109 0.        ]\n",
      " ...\n",
      " [0.63669369 0.49149469 0.47748909 ... 0.84506893 0.52040559 1.        ]\n",
      " [0.64482708 0.49057848 0.42085971 ... 0.84323381 0.51266974 1.        ]\n",
      " [0.67575173 0.49378844 0.39806642 ... 0.84348837 0.51834742 1.        ]]\n"
     ]
    }
   ],
   "source": [
    "from sklearn.preprocessing import MinMaxScaler\n",
    "scaler = MinMaxScaler()\n",
    "scaler.fit(df.iloc[:,0:562])\n",
    "mat_train = scaler.transform(df.iloc[:,0:562])\n",
    "print(mat_train)"
   ]
  },
  {
   "cell_type": "code",
   "execution_count": 70,
   "metadata": {
    "_uuid": "1991bee61959c64be6f3c083dfa932503e9abcf7"
   },
   "outputs": [
    {
     "name": "stdout",
     "output_type": "stream",
     "text": [
      "[[0.6718788  0.55764282 0.52464834 ... 0.62209457 0.46362736 0.        ]\n",
      " [0.69470427 0.57426358 0.42707858 ... 0.62446791 0.45014396 0.        ]\n",
      " [0.68636345 0.55310221 0.42794829 ... 0.62380956 0.45251181 0.        ]\n",
      " ...\n",
      " [0.74529355 0.64526771 0.43015674 ... 0.62088108 0.58803909 1.        ]\n",
      " [0.65638384 0.62620241 0.44817885 ... 0.61581385 0.59135763 1.        ]\n",
      " [0.58994885 0.56560474 0.41032069 ... 0.61537208 0.59163879 1.        ]]\n"
     ]
    }
   ],
   "source": [
    "scaler = MinMaxScaler()\n",
    "scaler.fit(test.iloc[:,0:562])\n",
    "mat_test = scaler.transform(test.iloc[:,0:562])\n",
    "print(mat_test)"
   ]
  },
  {
   "cell_type": "code",
   "execution_count": 71,
   "metadata": {
    "_uuid": "073c91184a21b06cca879b6812154ba19a633258",
    "collapsed": true
   },
   "outputs": [],
   "source": [
    "temp = []\n",
    "for i in df.Activity:\n",
    "    if i == \"WALKING\": temp.append(0)\n",
    "    if i == \"WALKING_UPSTAIRS\": temp.append(1)\n",
    "    if i == \"WALKING_DOWNSTAIRS\": temp.append(2)\n",
    "    if i == \"SITTING\": temp.append(3)\n",
    "    if i == \"STANDING\": temp.append(4)\n",
    "    if i == \"LAYING\": temp.append(5)\n",
    "df[\"n_Activity\"] = temp"
   ]
  },
  {
   "cell_type": "code",
   "execution_count": 75,
   "metadata": {
    "_uuid": "7191b8d36450a182835f4650f106f6a6973ad03f",
    "collapsed": true
   },
   "outputs": [],
   "source": [
    "temp = []\n",
    "for i in test.Activity:\n",
    "    if i == \"WALKING\": temp.append(0)\n",
    "    if i == \"WALKING_UPSTAIRS\": temp.append(1)\n",
    "    if i == \"WALKING_DOWNSTAIRS\": temp.append(2)\n",
    "    if i == \"SITTING\": temp.append(3)\n",
    "    if i == \"STANDING\": temp.append(4)\n",
    "    if i == \"LAYING\": temp.append(5)\n",
    "test[\"n_Activity\"] = temp"
   ]
  },
  {
   "cell_type": "code",
   "execution_count": 72,
   "metadata": {
    "_uuid": "6a42c24a4d76827d2859bc99f6b380235e3fe6ff",
    "collapsed": true
   },
   "outputs": [],
   "source": [
    "df.drop([\"Activity\"] , axis = 1 , inplace = True)"
   ]
  },
  {
   "cell_type": "code",
   "execution_count": 77,
   "metadata": {
    "_uuid": "35f0b695b235380f930cb15e22efb61cb16506ad",
    "collapsed": true
   },
   "outputs": [],
   "source": [
    "test.drop([\"Activity\"] , axis = 1 , inplace = True)"
   ]
  },
  {
   "cell_type": "code",
   "execution_count": 82,
   "metadata": {
    "_uuid": "95588194732d30b6d7471f43d069009deb122e7d",
    "collapsed": true
   },
   "outputs": [],
   "source": [
    "from keras.utils import to_categorical\n",
    "y_train = to_categorical(df.n_Activity , num_classes=6)\n",
    "y_test = to_categorical(test.n_Activity , num_classes=6)"
   ]
  },
  {
   "cell_type": "code",
   "execution_count": 85,
   "metadata": {
    "_uuid": "2fbdda1b0df15eef16080c70d54009568fd18554",
    "collapsed": true
   },
   "outputs": [],
   "source": [
    "X_train = mat_train \n",
    "X_test = mat_test"
   ]
  },
  {
   "cell_type": "code",
   "execution_count": 87,
   "metadata": {
    "_uuid": "a04511a806a9fbe7fb2274f79f0dbb6cf3247085"
   },
   "outputs": [
    {
     "name": "stdout",
     "output_type": "stream",
     "text": [
      "(7352, 562) (7352, 6)\n",
      "(2947, 562) (2947, 6)\n"
     ]
    }
   ],
   "source": [
    "print(X_train.shape , y_train.shape)\n",
    "print(X_test.shape , y_test.shape)"
   ]
  },
  {
   "cell_type": "code",
   "execution_count": 88,
   "metadata": {
    "_uuid": "939bbab458089e9ff05c71f7591451d97bcd3277"
   },
   "outputs": [
    {
     "name": "stderr",
     "output_type": "stream",
     "text": [
      "/opt/conda/lib/python3.6/site-packages/Keras-2.1.5-py3.6.egg/keras/callbacks.py:919: UserWarning: `epsilon` argument is deprecated and will be removed, use `min_delta` insted.\n"
     ]
    }
   ],
   "source": [
    "filepath=\"HAR_weights.hdf5\"\n",
    "from keras.callbacks import ReduceLROnPlateau , ModelCheckpoint\n",
    "\n",
    "lr_reduce = ReduceLROnPlateau(monitor='val_acc', factor=0.1, epsilon=0.0001, patience=1, verbose=1)\n",
    "checkpoint = ModelCheckpoint(filepath, monitor='val_acc', verbose=1, save_best_only=True, mode='max')"
   ]
  },
  {
   "cell_type": "code",
   "execution_count": 89,
   "metadata": {
    "_uuid": "3cd729e5173bfc6159e9bdd16ba677b43216fd12",
    "collapsed": true
   },
   "outputs": [],
   "source": [
    "from keras.models import Sequential\n",
    "from keras.layers import Dense, Dropout , BatchNormalization\n",
    "from sklearn.model_selection import train_test_split\n",
    "from keras.utils import np_utils\n",
    "from keras.optimizers import RMSprop, Adam"
   ]
  },
  {
   "cell_type": "code",
   "execution_count": 194,
   "metadata": {
    "_uuid": "4f9e80815bf497af567e72b218a9881a65818992"
   },
   "outputs": [
    {
     "name": "stdout",
     "output_type": "stream",
     "text": [
      "_________________________________________________________________\n",
      "Layer (type)                 Output Shape              Param #   \n",
      "=================================================================\n",
      "dense_109 (Dense)            (None, 64)                36032     \n",
      "_________________________________________________________________\n",
      "dense_110 (Dense)            (None, 64)                4160      \n",
      "_________________________________________________________________\n",
      "batch_normalization_9 (Batch (None, 64)                256       \n",
      "_________________________________________________________________\n",
      "dense_111 (Dense)            (None, 128)               8320      \n",
      "_________________________________________________________________\n",
      "dense_112 (Dense)            (None, 196)               25284     \n",
      "_________________________________________________________________\n",
      "dense_113 (Dense)            (None, 32)                6304      \n",
      "_________________________________________________________________\n",
      "dense_114 (Dense)            (None, 6)                 198       \n",
      "=================================================================\n",
      "Total params: 80,554\n",
      "Trainable params: 80,426\n",
      "Non-trainable params: 128\n",
      "_________________________________________________________________\n",
      "None\n"
     ]
    }
   ],
   "source": [
    "model = Sequential()\n",
    "\n",
    "model.add(Dense(64, input_dim=X_train.shape[1] , activation='relu'))\n",
    "model.add(Dense(64, activation='relu'))\n",
    "model.add(BatchNormalization())\n",
    "model.add(Dense(128, activation='relu'))\n",
    "model.add(Dense(196, activation='relu'))\n",
    "model.add(Dense(32, activation='relu'))\n",
    "model.add(Dense(6, activation='sigmoid'))\n",
    "\n",
    "model.compile(optimizer = Adam(lr = 0.0005),loss='categorical_crossentropy', metrics=['accuracy'])\n",
    "print(model.summary())"
   ]
  },
  {
   "cell_type": "code",
   "execution_count": 195,
   "metadata": {
    "_uuid": "8dc66d8956fcecafef7a029b6e92495a8e59bfd0"
   },
   "outputs": [
    {
     "name": "stdout",
     "output_type": "stream",
     "text": [
      "Train on 7352 samples, validate on 2947 samples\n",
      "Epoch 1/22\n",
      "7352/7352 [==============================] - 2s 320us/step - loss: 0.4648 - acc: 0.7908 - val_loss: 0.2946 - val_acc: 0.8644\n",
      "\n",
      "Epoch 00001: val_acc did not improve\n",
      "Epoch 2/22\n",
      "7352/7352 [==============================] - 0s 49us/step - loss: 0.1966 - acc: 0.9244 - val_loss: 0.1478 - val_acc: 0.9395\n",
      "\n",
      "Epoch 00002: val_acc did not improve\n",
      "Epoch 3/22\n",
      "7352/7352 [==============================] - 0s 53us/step - loss: 0.0918 - acc: 0.9712 - val_loss: 0.0947 - val_acc: 0.9609\n",
      "\n",
      "Epoch 00003: val_acc did not improve\n",
      "Epoch 4/22\n",
      "7352/7352 [==============================] - 0s 53us/step - loss: 0.0502 - acc: 0.9830 - val_loss: 0.1141 - val_acc: 0.9526\n",
      "\n",
      "Epoch 00004: val_acc did not improve\n",
      "\n",
      "Epoch 00004: ReduceLROnPlateau reducing learning rate to 5.0000002374872565e-05.\n",
      "Epoch 5/22\n",
      "7352/7352 [==============================] - 0s 46us/step - loss: 0.0370 - acc: 0.9878 - val_loss: 0.0652 - val_acc: 0.9742\n",
      "\n",
      "Epoch 00005: val_acc improved from 0.96680 to 0.97415, saving model to HAR_weights.hdf5\n",
      "Epoch 6/22\n",
      "7352/7352 [==============================] - 0s 46us/step - loss: 0.0340 - acc: 0.9889 - val_loss: 0.0562 - val_acc: 0.9798\n",
      "\n",
      "Epoch 00006: val_acc improved from 0.97415 to 0.97975, saving model to HAR_weights.hdf5\n",
      "Epoch 7/22\n",
      "7352/7352 [==============================] - 0s 46us/step - loss: 0.0324 - acc: 0.9894 - val_loss: 0.0577 - val_acc: 0.9781\n",
      "\n",
      "Epoch 00007: val_acc did not improve\n",
      "\n",
      "Epoch 00007: ReduceLROnPlateau reducing learning rate to 5.000000237487257e-06.\n",
      "Epoch 8/22\n",
      "7352/7352 [==============================] - 0s 44us/step - loss: 0.0314 - acc: 0.9899 - val_loss: 0.0602 - val_acc: 0.9767\n",
      "\n",
      "Epoch 00008: val_acc did not improve\n",
      "\n",
      "Epoch 00008: ReduceLROnPlateau reducing learning rate to 5.000000328436726e-07.\n",
      "Epoch 9/22\n",
      "7352/7352 [==============================] - 0s 45us/step - loss: 0.0312 - acc: 0.9895 - val_loss: 0.0619 - val_acc: 0.9756\n",
      "\n",
      "Epoch 00009: val_acc did not improve\n",
      "\n",
      "Epoch 00009: ReduceLROnPlateau reducing learning rate to 5.000000555810402e-08.\n",
      "Epoch 10/22\n",
      "7352/7352 [==============================] - 0s 45us/step - loss: 0.0313 - acc: 0.9893 - val_loss: 0.0633 - val_acc: 0.9749\n",
      "\n",
      "Epoch 00010: val_acc did not improve\n",
      "\n",
      "Epoch 00010: ReduceLROnPlateau reducing learning rate to 5.000000413701855e-09.\n",
      "Epoch 11/22\n",
      "7352/7352 [==============================] - 0s 51us/step - loss: 0.0308 - acc: 0.9898 - val_loss: 0.0643 - val_acc: 0.9743\n",
      "\n",
      "Epoch 00011: val_acc did not improve\n",
      "\n",
      "Epoch 00011: ReduceLROnPlateau reducing learning rate to 5.000000413701855e-10.\n",
      "Epoch 12/22\n",
      "7352/7352 [==============================] - 0s 51us/step - loss: 0.0310 - acc: 0.9899 - val_loss: 0.0651 - val_acc: 0.9743\n",
      "\n",
      "Epoch 00012: val_acc did not improve\n",
      "\n",
      "Epoch 00012: ReduceLROnPlateau reducing learning rate to 5.000000413701855e-11.\n",
      "Epoch 13/22\n",
      "7352/7352 [==============================] - 0s 48us/step - loss: 0.0308 - acc: 0.9903 - val_loss: 0.0657 - val_acc: 0.9739\n",
      "\n",
      "Epoch 00013: val_acc did not improve\n",
      "\n",
      "Epoch 00013: ReduceLROnPlateau reducing learning rate to 5.000000413701855e-12.\n",
      "Epoch 14/22\n",
      "7352/7352 [==============================] - 0s 46us/step - loss: 0.0312 - acc: 0.9899 - val_loss: 0.0662 - val_acc: 0.9736\n",
      "\n",
      "Epoch 00014: val_acc did not improve\n",
      "\n",
      "Epoch 00014: ReduceLROnPlateau reducing learning rate to 5.000000413701855e-13.\n",
      "Epoch 15/22\n",
      "7352/7352 [==============================] - 0s 45us/step - loss: 0.0308 - acc: 0.9895 - val_loss: 0.0665 - val_acc: 0.9732\n",
      "\n",
      "Epoch 00015: val_acc did not improve\n",
      "\n",
      "Epoch 00015: ReduceLROnPlateau reducing learning rate to 5.0000005221220725e-14.\n",
      "Epoch 16/22\n",
      "7352/7352 [==============================] - 0s 49us/step - loss: 0.0311 - acc: 0.9898 - val_loss: 0.0668 - val_acc: 0.9732\n",
      "\n",
      "Epoch 00016: val_acc did not improve\n",
      "\n",
      "Epoch 00016: ReduceLROnPlateau reducing learning rate to 5.000000589884709e-15.\n",
      "Epoch 17/22\n",
      "7352/7352 [==============================] - 0s 52us/step - loss: 0.0314 - acc: 0.9896 - val_loss: 0.0670 - val_acc: 0.9732\n",
      "\n",
      "Epoch 00017: val_acc did not improve\n",
      "\n",
      "Epoch 00017: ReduceLROnPlateau reducing learning rate to 5.000000759291298e-16.\n",
      "Epoch 18/22\n",
      "7352/7352 [==============================] - 0s 53us/step - loss: 0.0313 - acc: 0.9897 - val_loss: 0.0672 - val_acc: 0.9731\n",
      "\n",
      "Epoch 00018: val_acc did not improve\n",
      "\n",
      "Epoch 00018: ReduceLROnPlateau reducing learning rate to 5.000000547533061e-17.\n",
      "Epoch 19/22\n",
      "7352/7352 [==============================] - 0s 45us/step - loss: 0.0311 - acc: 0.9898 - val_loss: 0.0673 - val_acc: 0.9730\n",
      "\n",
      "Epoch 00019: val_acc did not improve\n",
      "\n",
      "Epoch 00019: ReduceLROnPlateau reducing learning rate to 5.000000415184163e-18.\n",
      "Epoch 20/22\n",
      "7352/7352 [==============================] - 0s 47us/step - loss: 0.0314 - acc: 0.9897 - val_loss: 0.0674 - val_acc: 0.9730\n",
      "\n",
      "Epoch 00020: val_acc did not improve\n",
      "\n",
      "Epoch 00020: ReduceLROnPlateau reducing learning rate to 5.000000332466102e-19.\n",
      "Epoch 21/22\n",
      "7352/7352 [==============================] - 0s 44us/step - loss: 0.0313 - acc: 0.9897 - val_loss: 0.0674 - val_acc: 0.9730\n",
      "\n",
      "Epoch 00021: val_acc did not improve\n",
      "\n",
      "Epoch 00021: ReduceLROnPlateau reducing learning rate to 5.000000229068525e-20.\n",
      "Epoch 22/22\n",
      "7352/7352 [==============================] - 0s 54us/step - loss: 0.0313 - acc: 0.9898 - val_loss: 0.0675 - val_acc: 0.9730\n",
      "\n",
      "Epoch 00022: val_acc did not improve\n",
      "\n",
      "Epoch 00022: ReduceLROnPlateau reducing learning rate to 5.00000016444504e-21.\n"
     ]
    }
   ],
   "source": [
    "history = model.fit(X_train, y_train , epochs=22 , batch_size = 256 , validation_data=(X_test, y_test) , callbacks=[checkpoint,lr_reduce])"
   ]
  },
  {
   "cell_type": "code",
   "execution_count": 196,
   "metadata": {
    "_uuid": "7590b8ac426d8918def47965e1b3c336e252c49a",
    "scrolled": true
   },
   "outputs": [
    {
     "data": {
      "image/png": "[encoded data removed]",
      "text/plain": [
       "<matplotlib.figure.Figure at 0x7fd152798080>"
      ]
     },
     "metadata": {},
     "output_type": "display_data"
    },
    {
     "data": {
      "image/png": "[encoded data removed]",
      "text/plain": [
       "<matplotlib.figure.Figure at 0x7fd1514aeba8>"
      ]
     },
     "metadata": {},
     "output_type": "display_data"
    }
   ],
   "source": [
    "from pylab import rcParams\n",
    "rcParams['figure.figsize'] = 10, 4\n",
    "plt.plot(history.history['acc'])\n",
    "plt.plot(history.history['val_acc'])\n",
    "plt.title('model accuracy')\n",
    "plt.ylabel('accuracy')\n",
    "plt.xlabel('epoch')\n",
    "plt.legend(['train', 'test'], loc='upper left')\n",
    "plt.show()\n",
    "# summarize history for loss\n",
    "plt.plot(history.history['loss'])\n",
    "plt.plot(history.history['val_loss'])\n",
    "plt.title('model loss')\n",
    "plt.ylabel('loss')\n",
    "plt.xlabel('epoch')\n",
    "plt.legend(['train', 'test'], loc='upper left')\n",
    "plt.show()"
   ]
  },
  {
   "cell_type": "code",
   "execution_count": 199,
   "metadata": {
    "_uuid": "c85fc1a4fcb998fac6d2a4adf039d3e614609336"
   },
   "outputs": [
    {
     "name": "stdout",
     "output_type": "stream",
     "text": [
      "             precision    recall  f1-score   support\n",
      "\n",
      "          0       0.99      0.91      0.95       496\n",
      "          1       0.98      0.89      0.93       471\n",
      "          2       0.82      0.99      0.90       420\n",
      "          3       0.94      0.90      0.92       491\n",
      "          4       0.94      0.95      0.94       532\n",
      "          5       0.98      1.00      0.99       537\n",
      "\n",
      "avg / total       0.95      0.94      0.94      2947\n",
      "\n"
     ]
    }
   ],
   "source": [
    "from sklearn.metrics import classification_report , accuracy_score\n",
    "print(classification_report(y_true, pred))"
   ]
  },
  {
   "cell_type": "code",
   "execution_count": null,
   "metadata": {
    "_uuid": "6d2ff9ac2057a97d126b98c288d18c3188ca03cb",
    "collapsed": true
   },
   "outputs": [],
   "source": []
  }
 ],
 "metadata": {
  "kernelspec": {
   "display_name": "Python 3",
   "language": "python",
   "name": "python3"
  },
  "language_info": {
   "codemirror_mode": {
    "name": "ipython",
    "version": 3
   },
   "file_extension": ".py",
   "mimetype": "text/x-python",
   "name": "python",
   "nbconvert_exporter": "python",
   "pygments_lexer": "ipython3",
   "version": "3.7.6"
  }
 },
 "nbformat": 4,
 "nbformat_minor": 1
}
