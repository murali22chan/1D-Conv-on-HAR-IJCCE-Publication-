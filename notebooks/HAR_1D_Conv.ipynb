{
  "nbformat": 4,
  "nbformat_minor": 0,
  "metadata": {
    "colab": {
      "provenance": [],
      "toc_visible": true
    },
    "kernelspec": {
      "name": "python3",
      "display_name": "Python 3"
    },
    "language_info": {
      "name": "python"
    },
    "accelerator": "GPU"
  },
  "cells": [
    {
      "cell_type": "code",
      "metadata": {
        "id": "Gv9N4khO_ihs"
      },
      "source": [
        "import pandas as pd\n",
        "import numpy as np\n",
        "import tensorflow as tf\n",
        "import keras\n",
        "from keras.models import Sequential\n",
        "from keras.layers import Dense, Flatten, Dropout, Conv1D, MaxPooling1D\n",
        "from keras.utils import to_categorical\n",
        "from keras.callbacks import ReduceLROnPlateau , ModelCheckpoint\n",
        "from sklearn.preprocessing import LabelEncoder, OneHotEncoder\n",
        "from keras.optimizers import SGD, RMSprop"
      ],
      "execution_count": null,
      "outputs": []
    },
    {
      "cell_type": "code",
      "metadata": {
        "colab": {
          "base_uri": "https://localhost:8080/"
        },
        "id": "KhNEfA4Z7EX_",
        "outputId": "fc5cfa36-f02e-45f7-e11b-21a8163773b9"
      },
      "source": [
        "from google.colab import drive\n",
        "drive.mount('/content/drive')"
      ],
      "execution_count": null,
      "outputs": [
        {
          "output_type": "stream",
          "text": [
            "Mounted at /content/drive\n"
          ],
          "name": "stdout"
        }
      ]
    },
    {
      "cell_type": "code",
      "metadata": {
        "colab": {
          "base_uri": "https://localhost:8080/"
        },
        "id": "QtEqOHNc7KZA",
        "outputId": "1f016d83-a367-407e-fc8e-70ce8fd64089"
      },
      "source": [
        "!wget \"https://github.com/Reghunaath/Indian_food_dataset/raw/master/archive%20(1).zip\""
      ],
      "execution_count": null,
      "outputs": [
        {
          "output_type": "stream",
          "text": [
            "--2021-03-25 16:44:27--  https://github.com/Reghunaath/Indian_food_dataset/raw/master/archive%20(1).zip\n",
            "Resolving github.com (github.com)... 192.30.255.112\n",
            "Connecting to github.com (github.com)|192.30.255.112|:443... connected.\n",
            "HTTP request sent, awaiting response... 302 Found\n",
            "Location: https://raw.githubusercontent.com/Reghunaath/Indian_food_dataset/master/archive%20(1).zip [following]\n",
            "--2021-03-25 16:44:28--  https://raw.githubusercontent.com/Reghunaath/Indian_food_dataset/master/archive%20(1).zip\n",
            "Resolving raw.githubusercontent.com (raw.githubusercontent.com)... 185.199.110.133, 185.199.108.133, 185.199.109.133, ...\n",
            "Connecting to raw.githubusercontent.com (raw.githubusercontent.com)|185.199.110.133|:443... connected.\n",
            "HTTP request sent, awaiting response... 200 OK\n",
            "Length: 25693584 (25M) [application/zip]\n",
            "Saving to: ‘archive (1).zip’\n",
            "\n",
            "archive (1).zip     100%[===================>]  24.50M  80.5MB/s    in 0.3s    \n",
            "\n",
            "2021-03-25 16:44:29 (80.5 MB/s) - ‘archive (1).zip’ saved [25693584/25693584]\n",
            "\n"
          ],
          "name": "stdout"
        }
      ]
    },
    {
      "cell_type": "code",
      "metadata": {
        "colab": {
          "base_uri": "https://localhost:8080/"
        },
        "id": "2v2O_rRy8511",
        "outputId": "a90d5148-49be-46d3-fe71-0c29cf5afa9f"
      },
      "source": [
        "!unzip \"/content/archive (1).zip\""
      ],
      "execution_count": null,
      "outputs": [
        {
          "output_type": "stream",
          "text": [
            "Archive:  /content/archive (1).zip\n",
            "  inflating: test.csv                \n",
            "  inflating: train.csv               \n"
          ],
          "name": "stdout"
        }
      ]
    },
    {
      "cell_type": "code",
      "metadata": {
        "id": "1UxNGa-h93iO"
      },
      "source": [
        "test = pd.read_csv(\"/content/test.csv\")\n",
        "train = pd.read_csv(\"/content/train.csv\")"
      ],
      "execution_count": null,
      "outputs": []
    },
    {
      "cell_type": "code",
      "metadata": {
        "colab": {
          "base_uri": "https://localhost:8080/"
        },
        "id": "12xq9cBRCeVt",
        "outputId": "f730e473-1914-4c4e-a20f-632aaa86a5e9"
      },
      "source": [
        "X_train = train.iloc[:, : -2]\n",
        "y_train = train.iloc[:, 562:563]\n",
        "X_test = test.iloc[:, : -2]\n",
        "y_test = test.iloc[:, 562:563]\n",
        "label_encoder = LabelEncoder()\n",
        "integer_y_train = label_encoder.fit_transform(y_train)\n",
        "integer_y_test = label_encoder.transform(y_test)\n",
        "one_hot_y_train = to_categorical(integer_y_train, 6)\n",
        "one_hot_y_test = to_categorical(integer_y_test, 6)\n",
        "X_train = np.expand_dims(X_train,axis=1)\n",
        "X_test = np.expand_dims(X_test,axis=1)\n",
        "# print((X_train.shape, X_test.shape, y_train.shape, y_test.shape))\n",
        "# one_hot_y_test\n",
        "# X_trai/n.shape"
      ],
      "execution_count": null,
      "outputs": [
        {
          "output_type": "stream",
          "text": [
            "((7352, 1, 561), (2947, 1, 561), (7352, 1), (2947, 1))\n"
          ],
          "name": "stdout"
        },
        {
          "output_type": "stream",
          "text": [
            "/usr/local/lib/python3.7/dist-packages/sklearn/preprocessing/_label.py:251: DataConversionWarning: A column-vector y was passed when a 1d array was expected. Please change the shape of y to (n_samples, ), for example using ravel().\n",
            "  y = column_or_1d(y, warn=True)\n",
            "/usr/local/lib/python3.7/dist-packages/sklearn/preprocessing/_label.py:268: DataConversionWarning: A column-vector y was passed when a 1d array was expected. Please change the shape of y to (n_samples, ), for example using ravel().\n",
            "  y = column_or_1d(y, warn=True)\n"
          ],
          "name": "stderr"
        }
      ]
    },
    {
      "cell_type": "code",
      "metadata": {
        "id": "3ZA2KgFi99j8"
      },
      "source": [
        "model = Sequential()\n",
        "model.add(Conv1D(64, kernel_size=1, activation='relu', input_shape=(1, 561)))\n",
        "model.add(Conv1D(128, kernel_size=1))\n",
        "model.add(Dropout(0.2))\n",
        "# model.add(Conv1D(64, kernel_size=1))\n",
        "# model.add(Dropout(0.2))\n",
        "model.add(Flatten())\n",
        "model.add(Dense(128, activation='relu'))\n",
        "model.add(Dropout(0.35))\n",
        "# model.add(Dense(128, activation=\"relu\"))\n",
        "# model.add(Dropout(0.35))\n",
        "model.add(Dense(64, activation=\"relu\"))\n",
        "model.add(Dense(6, activation=\"softmax\"))\n",
        "model.compile(optimizer=RMSprop(learning_rate=0.001), loss='categorical_crossentropy', metrics=['accuracy'])"
      ],
      "execution_count": null,
      "outputs": []
    },
    {
      "cell_type": "code",
      "metadata": {
        "id": "rQTjv6pRwCh_"
      },
      "source": [
        "class myCallback(tf.keras.callbacks.Callback): \n",
        "    def on_epoch_end(self, epoch, logs={}): \n",
        "        if(logs.get('val_accuracy') > 0.967):   \n",
        "          print(\"\\nReached %2.2f%% accuracy, so stopping training!!\" %(96.7))   \n",
        "          self.model.stop_training = True\n",
        "callback = myCallback()\n",
        "filepath = 'content/checkpoint'\n",
        "lr_reduce = ReduceLROnPlateau(monitor='val_accuracy', factor=0.1, min_delta=0.0001, patience=1, verbose=1)\n",
        "checkpoint = ModelCheckpoint(filepath, monitor='val_accuracy', verbose=1, save_best_only=True, mode='max')"
      ],
      "execution_count": null,
      "outputs": []
    },
    {
      "cell_type": "code",
      "metadata": {
        "colab": {
          "base_uri": "https://localhost:8080/"
        },
        "id": "GqZbAwC9sxE1",
        "outputId": "1027e5a9-a922-4b28-aca8-9bd904a250ec"
      },
      "source": [
        "model.summary()"
      ],
      "execution_count": null,
      "outputs": [
        {
          "output_type": "stream",
          "text": [
            "Model: \"sequential_31\"\n",
            "_________________________________________________________________\n",
            "Layer (type)                 Output Shape              Param #   \n",
            "=================================================================\n",
            "conv1d_79 (Conv1D)           (None, 1, 64)             35968     \n",
            "_________________________________________________________________\n",
            "conv1d_80 (Conv1D)           (None, 1, 128)            8320      \n",
            "_________________________________________________________________\n",
            "dropout_99 (Dropout)         (None, 1, 128)            0         \n",
            "_________________________________________________________________\n",
            "conv1d_81 (Conv1D)           (None, 1, 64)             8256      \n",
            "_________________________________________________________________\n",
            "dropout_100 (Dropout)        (None, 1, 64)             0         \n",
            "_________________________________________________________________\n",
            "flatten_29 (Flatten)         (None, 64)                0         \n",
            "_________________________________________________________________\n",
            "dense_107 (Dense)            (None, 128)               8320      \n",
            "_________________________________________________________________\n",
            "dropout_101 (Dropout)        (None, 128)               0         \n",
            "_________________________________________________________________\n",
            "dense_108 (Dense)            (None, 128)               16512     \n",
            "_________________________________________________________________\n",
            "dropout_102 (Dropout)        (None, 128)               0         \n",
            "_________________________________________________________________\n",
            "dense_109 (Dense)            (None, 64)                8256      \n",
            "_________________________________________________________________\n",
            "dense_110 (Dense)            (None, 6)                 390       \n",
            "=================================================================\n",
            "Total params: 86,022\n",
            "Trainable params: 86,022\n",
            "Non-trainable params: 0\n",
            "_________________________________________________________________\n"
          ],
          "name": "stdout"
        }
      ]
    },
    {
      "cell_type": "code",
      "metadata": {
        "colab": {
          "base_uri": "https://localhost:8080/"
        },
        "id": "jO2SIedD9-bx",
        "outputId": "8495cca2-d9aa-4eee-d8a4-018b57e275a1"
      },
      "source": [
        "history = model.fit(X_train, one_hot_y_train, batch_size=4, epochs=100, verbose=1, callbacks = [callback, checkpoint], validation_data=(X_test, one_hot_y_test))"
      ],
      "execution_count": null,
      "outputs": [
        {
          "output_type": "stream",
          "text": [
            "Epoch 1/100\n",
            "1838/1838 [==============================] - 7s 4ms/step - loss: 0.7248 - accuracy: 0.6900 - val_loss: 0.4279 - val_accuracy: 0.8571\n",
            "\n",
            "Epoch 00001: val_accuracy improved from -inf to 0.85714, saving model to content/checkpoint\n",
            "INFO:tensorflow:Assets written to: content/checkpoint/assets\n",
            "Epoch 2/100\n",
            "1838/1838 [==============================] - 6s 3ms/step - loss: 0.2719 - accuracy: 0.9159 - val_loss: 0.5202 - val_accuracy: 0.9070\n",
            "\n",
            "Epoch 00002: val_accuracy improved from 0.85714 to 0.90702, saving model to content/checkpoint\n",
            "INFO:tensorflow:Assets written to: content/checkpoint/assets\n",
            "Epoch 3/100\n",
            "1838/1838 [==============================] - 6s 4ms/step - loss: 0.2350 - accuracy: 0.9400 - val_loss: 0.3164 - val_accuracy: 0.9226\n",
            "\n",
            "Epoch 00003: val_accuracy improved from 0.90702 to 0.92263, saving model to content/checkpoint\n",
            "INFO:tensorflow:Assets written to: content/checkpoint/assets\n",
            "Epoch 4/100\n",
            "1838/1838 [==============================] - 6s 3ms/step - loss: 0.2192 - accuracy: 0.9397 - val_loss: 0.3633 - val_accuracy: 0.8799\n",
            "\n",
            "Epoch 00004: val_accuracy did not improve from 0.92263\n",
            "Epoch 5/100\n",
            "1838/1838 [==============================] - 6s 3ms/step - loss: 0.2266 - accuracy: 0.9445 - val_loss: 0.5068 - val_accuracy: 0.9121\n",
            "\n",
            "Epoch 00005: val_accuracy did not improve from 0.92263\n",
            "Epoch 6/100\n",
            "1838/1838 [==============================] - 6s 3ms/step - loss: 0.1920 - accuracy: 0.9471 - val_loss: 0.3191 - val_accuracy: 0.9393\n",
            "\n",
            "Epoch 00006: val_accuracy improved from 0.92263 to 0.93926, saving model to content/checkpoint\n",
            "INFO:tensorflow:Assets written to: content/checkpoint/assets\n",
            "Epoch 7/100\n",
            "1838/1838 [==============================] - 6s 3ms/step - loss: 0.1929 - accuracy: 0.9548 - val_loss: 0.2311 - val_accuracy: 0.9488\n",
            "\n",
            "Epoch 00007: val_accuracy improved from 0.93926 to 0.94876, saving model to content/checkpoint\n",
            "INFO:tensorflow:Assets written to: content/checkpoint/assets\n",
            "Epoch 8/100\n",
            "1838/1838 [==============================] - 6s 3ms/step - loss: 0.1886 - accuracy: 0.9577 - val_loss: 0.4537 - val_accuracy: 0.8890\n",
            "\n",
            "Epoch 00008: val_accuracy did not improve from 0.94876\n",
            "Epoch 9/100\n",
            "1838/1838 [==============================] - 6s 3ms/step - loss: 0.1801 - accuracy: 0.9608 - val_loss: 0.3118 - val_accuracy: 0.9423\n",
            "\n",
            "Epoch 00009: val_accuracy did not improve from 0.94876\n",
            "Epoch 10/100\n",
            "1838/1838 [==============================] - 6s 3ms/step - loss: 0.1941 - accuracy: 0.9608 - val_loss: 1.8439 - val_accuracy: 0.8670\n",
            "\n",
            "Epoch 00010: val_accuracy did not improve from 0.94876\n",
            "Epoch 11/100\n",
            "1838/1838 [==============================] - 6s 3ms/step - loss: 0.2130 - accuracy: 0.9591 - val_loss: 1.0151 - val_accuracy: 0.9043\n",
            "\n",
            "Epoch 00011: val_accuracy did not improve from 0.94876\n",
            "Epoch 12/100\n",
            "1838/1838 [==============================] - 6s 3ms/step - loss: 0.2500 - accuracy: 0.9603 - val_loss: 0.5948 - val_accuracy: 0.9335\n",
            "\n",
            "Epoch 00012: val_accuracy did not improve from 0.94876\n",
            "Epoch 13/100\n",
            "1838/1838 [==============================] - 6s 3ms/step - loss: 0.2389 - accuracy: 0.9683 - val_loss: 0.4905 - val_accuracy: 0.9379\n",
            "\n",
            "Epoch 00013: val_accuracy did not improve from 0.94876\n",
            "Epoch 14/100\n",
            "1838/1838 [==============================] - 6s 3ms/step - loss: 0.2014 - accuracy: 0.9676 - val_loss: 1.3987 - val_accuracy: 0.9315\n",
            "\n",
            "Epoch 00014: val_accuracy did not improve from 0.94876\n",
            "Epoch 15/100\n",
            "1838/1838 [==============================] - 6s 3ms/step - loss: 0.1838 - accuracy: 0.9667 - val_loss: 1.5729 - val_accuracy: 0.9287\n",
            "\n",
            "Epoch 00015: val_accuracy did not improve from 0.94876\n",
            "Epoch 16/100\n",
            "1838/1838 [==============================] - 6s 3ms/step - loss: 0.2421 - accuracy: 0.9618 - val_loss: 0.3458 - val_accuracy: 0.9505\n",
            "\n",
            "Epoch 00016: val_accuracy improved from 0.94876 to 0.95046, saving model to content/checkpoint\n",
            "INFO:tensorflow:Assets written to: content/checkpoint/assets\n",
            "Epoch 17/100\n",
            "1838/1838 [==============================] - 6s 3ms/step - loss: 0.2500 - accuracy: 0.9624 - val_loss: 2.2944 - val_accuracy: 0.9264\n",
            "\n",
            "Epoch 00017: val_accuracy did not improve from 0.95046\n",
            "Epoch 18/100\n",
            "1838/1838 [==============================] - 6s 3ms/step - loss: 0.1938 - accuracy: 0.9605 - val_loss: 0.8273 - val_accuracy: 0.9264\n",
            "\n",
            "Epoch 00018: val_accuracy did not improve from 0.95046\n",
            "Epoch 19/100\n",
            "1838/1838 [==============================] - 6s 3ms/step - loss: 0.1765 - accuracy: 0.9699 - val_loss: 0.8485 - val_accuracy: 0.9433\n",
            "\n",
            "Epoch 00019: val_accuracy did not improve from 0.95046\n",
            "Epoch 20/100\n",
            "1838/1838 [==============================] - 6s 3ms/step - loss: 0.2009 - accuracy: 0.9680 - val_loss: 1.7157 - val_accuracy: 0.9264\n",
            "\n",
            "Epoch 00020: val_accuracy did not improve from 0.95046\n",
            "Epoch 21/100\n",
            "1838/1838 [==============================] - 6s 3ms/step - loss: 0.3136 - accuracy: 0.9714 - val_loss: 0.4732 - val_accuracy: 0.9450\n",
            "\n",
            "Epoch 00021: val_accuracy did not improve from 0.95046\n",
            "Epoch 22/100\n",
            "1838/1838 [==============================] - 6s 3ms/step - loss: 0.2129 - accuracy: 0.9684 - val_loss: 0.6056 - val_accuracy: 0.9447\n",
            "\n",
            "Epoch 00022: val_accuracy did not improve from 0.95046\n",
            "Epoch 23/100\n",
            "1838/1838 [==============================] - 6s 4ms/step - loss: 0.2082 - accuracy: 0.9722 - val_loss: 3.5130 - val_accuracy: 0.9325\n",
            "\n",
            "Epoch 00023: val_accuracy did not improve from 0.95046\n",
            "Epoch 24/100\n",
            "1838/1838 [==============================] - 6s 3ms/step - loss: 0.1327 - accuracy: 0.9742 - val_loss: 0.7981 - val_accuracy: 0.9399\n",
            "\n",
            "Epoch 00024: val_accuracy did not improve from 0.95046\n",
            "Epoch 25/100\n",
            "1838/1838 [==============================] - 6s 3ms/step - loss: 0.1732 - accuracy: 0.9668 - val_loss: 1.5149 - val_accuracy: 0.8785\n",
            "\n",
            "Epoch 00025: val_accuracy did not improve from 0.95046\n",
            "Epoch 26/100\n",
            "1838/1838 [==============================] - 6s 3ms/step - loss: 0.1427 - accuracy: 0.9716 - val_loss: 1.2612 - val_accuracy: 0.9399\n",
            "\n",
            "Epoch 00026: val_accuracy did not improve from 0.95046\n",
            "Epoch 27/100\n",
            "1838/1838 [==============================] - 6s 3ms/step - loss: 0.1477 - accuracy: 0.9774 - val_loss: 0.8510 - val_accuracy: 0.9338\n",
            "\n",
            "Epoch 00027: val_accuracy did not improve from 0.95046\n",
            "Epoch 28/100\n",
            "1838/1838 [==============================] - 6s 3ms/step - loss: 0.1317 - accuracy: 0.9754 - val_loss: 2.6801 - val_accuracy: 0.9287\n",
            "\n",
            "Epoch 00028: val_accuracy did not improve from 0.95046\n",
            "Epoch 29/100\n",
            "1838/1838 [==============================] - 6s 3ms/step - loss: 0.1323 - accuracy: 0.9762 - val_loss: 1.3452 - val_accuracy: 0.9318\n",
            "\n",
            "Epoch 00029: val_accuracy did not improve from 0.95046\n",
            "Epoch 30/100\n",
            "1838/1838 [==============================] - 6s 3ms/step - loss: 0.1531 - accuracy: 0.9746 - val_loss: 0.4819 - val_accuracy: 0.9460\n",
            "\n",
            "Epoch 00030: val_accuracy did not improve from 0.95046\n",
            "Epoch 31/100\n",
            "1838/1838 [==============================] - 6s 3ms/step - loss: 0.1595 - accuracy: 0.9765 - val_loss: 2.3729 - val_accuracy: 0.9399\n",
            "\n",
            "Epoch 00031: val_accuracy did not improve from 0.95046\n",
            "Epoch 32/100\n",
            "1838/1838 [==============================] - 6s 3ms/step - loss: 0.1273 - accuracy: 0.9824 - val_loss: 0.8114 - val_accuracy: 0.9457\n",
            "\n",
            "Epoch 00032: val_accuracy did not improve from 0.95046\n",
            "Epoch 33/100\n",
            "1838/1838 [==============================] - 6s 3ms/step - loss: 0.1686 - accuracy: 0.9760 - val_loss: 4.6615 - val_accuracy: 0.9416\n",
            "\n",
            "Epoch 00033: val_accuracy did not improve from 0.95046\n",
            "Epoch 34/100\n",
            "1838/1838 [==============================] - 6s 3ms/step - loss: 0.1513 - accuracy: 0.9796 - val_loss: 1.1523 - val_accuracy: 0.9430\n",
            "\n",
            "Epoch 00034: val_accuracy did not improve from 0.95046\n",
            "Epoch 35/100\n",
            "1838/1838 [==============================] - 6s 4ms/step - loss: 0.1631 - accuracy: 0.9759 - val_loss: 0.9138 - val_accuracy: 0.9348\n",
            "\n",
            "Epoch 00035: val_accuracy did not improve from 0.95046\n",
            "Epoch 36/100\n",
            "1838/1838 [==============================] - 6s 3ms/step - loss: 0.1357 - accuracy: 0.9768 - val_loss: 1.5614 - val_accuracy: 0.9301\n",
            "\n",
            "Epoch 00036: val_accuracy did not improve from 0.95046\n",
            "Epoch 37/100\n",
            "1838/1838 [==============================] - 6s 3ms/step - loss: 0.1680 - accuracy: 0.9758 - val_loss: 1.7022 - val_accuracy: 0.9304\n",
            "\n",
            "Epoch 00037: val_accuracy did not improve from 0.95046\n",
            "Epoch 38/100\n",
            "1838/1838 [==============================] - 6s 3ms/step - loss: 0.1599 - accuracy: 0.9767 - val_loss: 3.6580 - val_accuracy: 0.9315\n",
            "\n",
            "Epoch 00038: val_accuracy did not improve from 0.95046\n",
            "Epoch 39/100\n",
            "1838/1838 [==============================] - 6s 4ms/step - loss: 0.2146 - accuracy: 0.9771 - val_loss: 1.8480 - val_accuracy: 0.9284\n",
            "\n",
            "Epoch 00039: val_accuracy did not improve from 0.95046\n",
            "Epoch 40/100\n",
            "1838/1838 [==============================] - 6s 4ms/step - loss: 0.1381 - accuracy: 0.9775 - val_loss: 2.1223 - val_accuracy: 0.9474\n",
            "\n",
            "Epoch 00040: val_accuracy did not improve from 0.95046\n",
            "Epoch 41/100\n",
            "1838/1838 [==============================] - 6s 3ms/step - loss: 0.1230 - accuracy: 0.9791 - val_loss: 1.4220 - val_accuracy: 0.9338\n",
            "\n",
            "Epoch 00041: val_accuracy did not improve from 0.95046\n",
            "Epoch 42/100\n",
            "1838/1838 [==============================] - 7s 4ms/step - loss: 0.2039 - accuracy: 0.9803 - val_loss: 3.0054 - val_accuracy: 0.9138\n",
            "\n",
            "Epoch 00042: val_accuracy did not improve from 0.95046\n",
            "Epoch 43/100\n",
            "1838/1838 [==============================] - 7s 4ms/step - loss: 0.1612 - accuracy: 0.9799 - val_loss: 0.9001 - val_accuracy: 0.9488\n",
            "\n",
            "Epoch 00043: val_accuracy did not improve from 0.95046\n",
            "Epoch 44/100\n",
            "1838/1838 [==============================] - 7s 4ms/step - loss: 0.1372 - accuracy: 0.9795 - val_loss: 3.1124 - val_accuracy: 0.9352\n",
            "\n",
            "Epoch 00044: val_accuracy did not improve from 0.95046\n",
            "Epoch 45/100\n",
            "1838/1838 [==============================] - 6s 4ms/step - loss: 0.1115 - accuracy: 0.9842 - val_loss: 2.4787 - val_accuracy: 0.9352\n",
            "\n",
            "Epoch 00045: val_accuracy did not improve from 0.95046\n",
            "Epoch 46/100\n",
            "1838/1838 [==============================] - 6s 3ms/step - loss: 0.1422 - accuracy: 0.9798 - val_loss: 2.4561 - val_accuracy: 0.9382\n",
            "\n",
            "Epoch 00046: val_accuracy did not improve from 0.95046\n",
            "Epoch 47/100\n",
            "1838/1838 [==============================] - 6s 3ms/step - loss: 0.1502 - accuracy: 0.9782 - val_loss: 6.5085 - val_accuracy: 0.9135\n",
            "\n",
            "Epoch 00047: val_accuracy did not improve from 0.95046\n",
            "Epoch 48/100\n",
            "1838/1838 [==============================] - 6s 3ms/step - loss: 0.1667 - accuracy: 0.9814 - val_loss: 4.5687 - val_accuracy: 0.9206\n",
            "\n",
            "Epoch 00048: val_accuracy did not improve from 0.95046\n",
            "Epoch 49/100\n",
            "1838/1838 [==============================] - 6s 3ms/step - loss: 0.2500 - accuracy: 0.9812 - val_loss: 2.3290 - val_accuracy: 0.9433\n",
            "\n",
            "Epoch 00049: val_accuracy did not improve from 0.95046\n",
            "Epoch 50/100\n",
            "1838/1838 [==============================] - 6s 3ms/step - loss: 0.2071 - accuracy: 0.9805 - val_loss: 1.2268 - val_accuracy: 0.9501\n",
            "\n",
            "Epoch 00050: val_accuracy did not improve from 0.95046\n",
            "Epoch 51/100\n",
            "1838/1838 [==============================] - 6s 3ms/step - loss: 0.1796 - accuracy: 0.9811 - val_loss: 2.8990 - val_accuracy: 0.9369\n",
            "\n",
            "Epoch 00051: val_accuracy did not improve from 0.95046\n",
            "Epoch 52/100\n",
            "1838/1838 [==============================] - 6s 3ms/step - loss: 0.1630 - accuracy: 0.9849 - val_loss: 2.6921 - val_accuracy: 0.9454\n",
            "\n",
            "Epoch 00052: val_accuracy did not improve from 0.95046\n",
            "Epoch 53/100\n",
            "1838/1838 [==============================] - 6s 4ms/step - loss: 0.2589 - accuracy: 0.9840 - val_loss: 1.4980 - val_accuracy: 0.9264\n",
            "\n",
            "Epoch 00053: val_accuracy did not improve from 0.95046\n",
            "Epoch 54/100\n",
            "1838/1838 [==============================] - 6s 3ms/step - loss: 0.1946 - accuracy: 0.9796 - val_loss: 3.3420 - val_accuracy: 0.9532\n",
            "\n",
            "Epoch 00054: val_accuracy improved from 0.95046 to 0.95317, saving model to content/checkpoint\n",
            "INFO:tensorflow:Assets written to: content/checkpoint/assets\n",
            "Epoch 55/100\n",
            "1838/1838 [==============================] - 6s 4ms/step - loss: 0.1613 - accuracy: 0.9866 - val_loss: 4.7751 - val_accuracy: 0.9403\n",
            "\n",
            "Epoch 00055: val_accuracy did not improve from 0.95317\n",
            "Epoch 56/100\n",
            "1838/1838 [==============================] - 6s 4ms/step - loss: 0.1362 - accuracy: 0.9820 - val_loss: 3.9059 - val_accuracy: 0.9104\n",
            "\n",
            "Epoch 00056: val_accuracy did not improve from 0.95317\n",
            "Epoch 57/100\n",
            "1838/1838 [==============================] - 6s 3ms/step - loss: 0.1490 - accuracy: 0.9847 - val_loss: 3.6022 - val_accuracy: 0.9365\n",
            "\n",
            "Epoch 00057: val_accuracy did not improve from 0.95317\n",
            "Epoch 58/100\n",
            "1838/1838 [==============================] - 7s 4ms/step - loss: 0.1185 - accuracy: 0.9843 - val_loss: 7.0779 - val_accuracy: 0.9165\n",
            "\n",
            "Epoch 00058: val_accuracy did not improve from 0.95317\n",
            "Epoch 59/100\n",
            "1838/1838 [==============================] - 6s 4ms/step - loss: 0.2054 - accuracy: 0.9827 - val_loss: 5.3485 - val_accuracy: 0.9284\n",
            "\n",
            "Epoch 00059: val_accuracy did not improve from 0.95317\n",
            "Epoch 60/100\n",
            "1838/1838 [==============================] - 6s 3ms/step - loss: 0.1210 - accuracy: 0.9835 - val_loss: 4.5578 - val_accuracy: 0.9427\n",
            "\n",
            "Epoch 00060: val_accuracy did not improve from 0.95317\n",
            "Epoch 61/100\n",
            "1838/1838 [==============================] - 6s 3ms/step - loss: 0.1554 - accuracy: 0.9853 - val_loss: 4.9127 - val_accuracy: 0.9437\n",
            "\n",
            "Epoch 00061: val_accuracy did not improve from 0.95317\n",
            "Epoch 62/100\n",
            "1838/1838 [==============================] - 6s 3ms/step - loss: 0.1669 - accuracy: 0.9842 - val_loss: 4.2424 - val_accuracy: 0.9477\n",
            "\n",
            "Epoch 00062: val_accuracy did not improve from 0.95317\n",
            "Epoch 63/100\n",
            "1838/1838 [==============================] - 6s 4ms/step - loss: 0.1619 - accuracy: 0.9846 - val_loss: 5.1893 - val_accuracy: 0.9352\n",
            "\n",
            "Epoch 00063: val_accuracy did not improve from 0.95317\n",
            "Epoch 64/100\n",
            "1838/1838 [==============================] - 6s 4ms/step - loss: 0.1394 - accuracy: 0.9842 - val_loss: 2.5747 - val_accuracy: 0.9494\n",
            "\n",
            "Epoch 00064: val_accuracy did not improve from 0.95317\n",
            "Epoch 65/100\n",
            "1838/1838 [==============================] - 6s 3ms/step - loss: 0.1820 - accuracy: 0.9868 - val_loss: 4.6899 - val_accuracy: 0.9433\n",
            "\n",
            "Epoch 00065: val_accuracy did not improve from 0.95317\n",
            "Epoch 66/100\n",
            "1838/1838 [==============================] - 6s 3ms/step - loss: 0.1675 - accuracy: 0.9841 - val_loss: 2.8669 - val_accuracy: 0.9484\n",
            "\n",
            "Epoch 00066: val_accuracy did not improve from 0.95317\n",
            "Epoch 67/100\n",
            "1838/1838 [==============================] - 6s 4ms/step - loss: 0.1379 - accuracy: 0.9865 - val_loss: 0.8044 - val_accuracy: 0.9515\n",
            "\n",
            "Epoch 00067: val_accuracy did not improve from 0.95317\n",
            "Epoch 68/100\n",
            "1838/1838 [==============================] - 6s 4ms/step - loss: 0.1857 - accuracy: 0.9794 - val_loss: 3.9114 - val_accuracy: 0.9281\n",
            "\n",
            "Epoch 00068: val_accuracy did not improve from 0.95317\n",
            "Epoch 69/100\n",
            "1838/1838 [==============================] - 6s 4ms/step - loss: 0.0991 - accuracy: 0.9841 - val_loss: 2.1462 - val_accuracy: 0.9423\n",
            "\n",
            "Epoch 00069: val_accuracy did not improve from 0.95317\n",
            "Epoch 70/100\n",
            "1838/1838 [==============================] - 7s 4ms/step - loss: 0.1836 - accuracy: 0.9807 - val_loss: 4.1906 - val_accuracy: 0.9423\n",
            "\n",
            "Epoch 00070: val_accuracy did not improve from 0.95317\n",
            "Epoch 71/100\n",
            "1838/1838 [==============================] - 6s 4ms/step - loss: 0.1525 - accuracy: 0.9866 - val_loss: 6.7555 - val_accuracy: 0.9440\n",
            "\n",
            "Epoch 00071: val_accuracy did not improve from 0.95317\n",
            "Epoch 72/100\n",
            "1838/1838 [==============================] - 6s 4ms/step - loss: 0.3401 - accuracy: 0.9859 - val_loss: 2.4466 - val_accuracy: 0.9518\n",
            "\n",
            "Epoch 00072: val_accuracy did not improve from 0.95317\n",
            "Epoch 73/100\n",
            "1838/1838 [==============================] - 7s 4ms/step - loss: 0.1508 - accuracy: 0.9829 - val_loss: 3.1073 - val_accuracy: 0.9410\n",
            "\n",
            "Epoch 00073: val_accuracy did not improve from 0.95317\n",
            "Epoch 74/100\n",
            "1838/1838 [==============================] - 6s 4ms/step - loss: 0.1716 - accuracy: 0.9824 - val_loss: 3.5877 - val_accuracy: 0.9508\n",
            "\n",
            "Epoch 00074: val_accuracy did not improve from 0.95317\n",
            "Epoch 75/100\n",
            "1838/1838 [==============================] - 7s 4ms/step - loss: 0.0848 - accuracy: 0.9882 - val_loss: 2.7902 - val_accuracy: 0.9430\n",
            "\n",
            "Epoch 00075: val_accuracy did not improve from 0.95317\n",
            "Epoch 76/100\n",
            "1838/1838 [==============================] - 6s 4ms/step - loss: 0.2030 - accuracy: 0.9863 - val_loss: 1.1961 - val_accuracy: 0.9355\n",
            "\n",
            "Epoch 00076: val_accuracy did not improve from 0.95317\n",
            "Epoch 77/100\n",
            "1838/1838 [==============================] - 6s 4ms/step - loss: 0.2660 - accuracy: 0.9850 - val_loss: 1.8360 - val_accuracy: 0.9491\n",
            "\n",
            "Epoch 00077: val_accuracy did not improve from 0.95317\n",
            "Epoch 78/100\n",
            "1838/1838 [==============================] - 6s 4ms/step - loss: 0.1247 - accuracy: 0.9853 - val_loss: 4.2124 - val_accuracy: 0.9247\n",
            "\n",
            "Epoch 00078: val_accuracy did not improve from 0.95317\n",
            "Epoch 79/100\n",
            "1838/1838 [==============================] - 7s 4ms/step - loss: 0.1479 - accuracy: 0.9867 - val_loss: 1.7660 - val_accuracy: 0.9444\n",
            "\n",
            "Epoch 00079: val_accuracy did not improve from 0.95317\n",
            "Epoch 80/100\n",
            "1838/1838 [==============================] - 7s 4ms/step - loss: 0.1163 - accuracy: 0.9863 - val_loss: 2.1987 - val_accuracy: 0.9270\n",
            "\n",
            "Epoch 00080: val_accuracy did not improve from 0.95317\n",
            "Epoch 81/100\n",
            "1838/1838 [==============================] - 6s 4ms/step - loss: 0.1239 - accuracy: 0.9879 - val_loss: 2.5218 - val_accuracy: 0.9281\n",
            "\n",
            "Epoch 00081: val_accuracy did not improve from 0.95317\n",
            "Epoch 82/100\n",
            "1838/1838 [==============================] - 6s 4ms/step - loss: 0.1277 - accuracy: 0.9907 - val_loss: 1.5171 - val_accuracy: 0.9321\n",
            "\n",
            "Epoch 00082: val_accuracy did not improve from 0.95317\n",
            "Epoch 83/100\n",
            "1838/1838 [==============================] - 6s 4ms/step - loss: 0.0919 - accuracy: 0.9840 - val_loss: 5.0415 - val_accuracy: 0.9386\n",
            "\n",
            "Epoch 00083: val_accuracy did not improve from 0.95317\n",
            "Epoch 84/100\n",
            "1838/1838 [==============================] - 6s 4ms/step - loss: 0.1512 - accuracy: 0.9885 - val_loss: 3.8856 - val_accuracy: 0.9318\n",
            "\n",
            "Epoch 00084: val_accuracy did not improve from 0.95317\n",
            "Epoch 85/100\n",
            "1838/1838 [==============================] - 6s 3ms/step - loss: 0.1436 - accuracy: 0.9843 - val_loss: 3.3393 - val_accuracy: 0.9298\n",
            "\n",
            "Epoch 00085: val_accuracy did not improve from 0.95317\n",
            "Epoch 86/100\n",
            "1838/1838 [==============================] - 6s 4ms/step - loss: 0.1676 - accuracy: 0.9857 - val_loss: 2.9940 - val_accuracy: 0.9298\n",
            "\n",
            "Epoch 00086: val_accuracy did not improve from 0.95317\n",
            "Epoch 87/100\n",
            "1838/1838 [==============================] - 6s 4ms/step - loss: 0.0852 - accuracy: 0.9887 - val_loss: 3.1126 - val_accuracy: 0.9379\n",
            "\n",
            "Epoch 00087: val_accuracy did not improve from 0.95317\n",
            "Epoch 88/100\n",
            "1838/1838 [==============================] - 6s 4ms/step - loss: 0.1478 - accuracy: 0.9877 - val_loss: 2.0841 - val_accuracy: 0.9539\n",
            "\n",
            "Epoch 00088: val_accuracy improved from 0.95317 to 0.95385, saving model to content/checkpoint\n",
            "INFO:tensorflow:Assets written to: content/checkpoint/assets\n",
            "Epoch 89/100\n",
            "1838/1838 [==============================] - 6s 4ms/step - loss: 0.2512 - accuracy: 0.9860 - val_loss: 1.7249 - val_accuracy: 0.9338\n",
            "\n",
            "Epoch 00089: val_accuracy did not improve from 0.95385\n",
            "Epoch 90/100\n",
            "1838/1838 [==============================] - 7s 4ms/step - loss: 0.1470 - accuracy: 0.9842 - val_loss: 1.0872 - val_accuracy: 0.9613\n",
            "\n",
            "Epoch 00090: val_accuracy improved from 0.95385 to 0.96132, saving model to content/checkpoint\n",
            "INFO:tensorflow:Assets written to: content/checkpoint/assets\n",
            "Epoch 91/100\n",
            "1838/1838 [==============================] - 7s 4ms/step - loss: 0.1445 - accuracy: 0.9909 - val_loss: 1.8194 - val_accuracy: 0.9457\n",
            "\n",
            "Epoch 00091: val_accuracy did not improve from 0.96132\n",
            "Epoch 92/100\n",
            "1838/1838 [==============================] - 7s 4ms/step - loss: 0.0873 - accuracy: 0.9893 - val_loss: 2.4607 - val_accuracy: 0.9413\n",
            "\n",
            "Epoch 00092: val_accuracy did not improve from 0.96132\n",
            "Epoch 93/100\n",
            "1838/1838 [==============================] - 7s 4ms/step - loss: 0.1264 - accuracy: 0.9853 - val_loss: 4.9369 - val_accuracy: 0.9444\n",
            "\n",
            "Epoch 00093: val_accuracy did not improve from 0.96132\n",
            "Epoch 94/100\n",
            "1838/1838 [==============================] - 6s 4ms/step - loss: 0.1950 - accuracy: 0.9849 - val_loss: 1.2340 - val_accuracy: 0.9406\n",
            "\n",
            "Epoch 00094: val_accuracy did not improve from 0.96132\n",
            "Epoch 95/100\n",
            "1838/1838 [==============================] - 7s 4ms/step - loss: 0.1488 - accuracy: 0.9862 - val_loss: 2.9306 - val_accuracy: 0.9332\n",
            "\n",
            "Epoch 00095: val_accuracy did not improve from 0.96132\n",
            "Epoch 96/100\n",
            "1838/1838 [==============================] - 7s 4ms/step - loss: 0.1244 - accuracy: 0.9840 - val_loss: 1.4874 - val_accuracy: 0.9494\n",
            "\n",
            "Epoch 00096: val_accuracy did not improve from 0.96132\n",
            "Epoch 97/100\n",
            "1838/1838 [==============================] - 7s 4ms/step - loss: 0.1174 - accuracy: 0.9910 - val_loss: 3.6427 - val_accuracy: 0.9430\n",
            "\n",
            "Epoch 00097: val_accuracy did not improve from 0.96132\n",
            "Epoch 98/100\n",
            "1838/1838 [==============================] - 7s 4ms/step - loss: 0.1290 - accuracy: 0.9873 - val_loss: 1.5403 - val_accuracy: 0.9406\n",
            "\n",
            "Epoch 00098: val_accuracy did not improve from 0.96132\n",
            "Epoch 99/100\n",
            "1838/1838 [==============================] - 7s 4ms/step - loss: 0.1417 - accuracy: 0.9879 - val_loss: 2.8644 - val_accuracy: 0.9413\n",
            "\n",
            "Epoch 00099: val_accuracy did not improve from 0.96132\n",
            "Epoch 100/100\n",
            "1838/1838 [==============================] - 7s 4ms/step - loss: 0.1735 - accuracy: 0.9892 - val_loss: 2.3068 - val_accuracy: 0.9396\n",
            "\n",
            "Epoch 00100: val_accuracy did not improve from 0.96132\n"
          ],
          "name": "stdout"
        }
      ]
    },
    {
      "cell_type": "code",
      "metadata": {
        "id": "kf8hL8b4vlox"
      },
      "source": [
        "new_model = keras.models.load_model(\"/content/drive/MyDrive/checkpoint\")"
      ],
      "execution_count": null,
      "outputs": []
    },
    {
      "cell_type": "code",
      "metadata": {
        "colab": {
          "base_uri": "https://localhost:8080/"
        },
        "id": "dbxcKrnX6Q09",
        "outputId": "4caf9518-eed3-4f25-9345-68bc608886ba"
      },
      "source": [
        "new_model.summary()"
      ],
      "execution_count": null,
      "outputs": [
        {
          "output_type": "stream",
          "text": [
            "Model: \"sequential_33\"\n",
            "_________________________________________________________________\n",
            "Layer (type)                 Output Shape              Param #   \n",
            "=================================================================\n",
            "conv1d_84 (Conv1D)           (None, 1, 64)             35968     \n",
            "_________________________________________________________________\n",
            "conv1d_85 (Conv1D)           (None, 1, 128)            8320      \n",
            "_________________________________________________________________\n",
            "dropout_106 (Dropout)        (None, 1, 128)            0         \n",
            "_________________________________________________________________\n",
            "flatten_31 (Flatten)         (None, 128)               0         \n",
            "_________________________________________________________________\n",
            "dense_115 (Dense)            (None, 128)               16512     \n",
            "_________________________________________________________________\n",
            "dropout_107 (Dropout)        (None, 128)               0         \n",
            "_________________________________________________________________\n",
            "dense_116 (Dense)            (None, 64)                8256      \n",
            "_________________________________________________________________\n",
            "dense_117 (Dense)            (None, 6)                 390       \n",
            "=================================================================\n",
            "Total params: 69,446\n",
            "Trainable params: 69,446\n",
            "Non-trainable params: 0\n",
            "_________________________________________________________________\n"
          ],
          "name": "stdout"
        }
      ]
    },
    {
      "cell_type": "code",
      "metadata": {
        "colab": {
          "base_uri": "https://localhost:8080/"
        },
        "id": "ENHyqwyPG3A4",
        "outputId": "8ae9d634-0bd0-4083-f989-6ef697ea198d"
      },
      "source": [
        "new_model.evaluate(X_test, one_hot_y_test)"
      ],
      "execution_count": null,
      "outputs": [
        {
          "output_type": "stream",
          "text": [
            "93/93 [==============================] - 30s 2ms/step - loss: 1.0872 - accuracy: 0.9613\n"
          ],
          "name": "stdout"
        },
        {
          "output_type": "execute_result",
          "data": {
            "text/plain": [
              "[1.0871795415878296, 0.9613165855407715]"
            ]
          },
          "metadata": {
            "tags": []
          },
          "execution_count": 9
        }
      ]
    },
    {
      "cell_type": "code",
      "metadata": {
        "id": "UyMhB9jJG-oq",
        "colab": {
          "base_uri": "https://localhost:8080/"
        },
        "outputId": "ae011310-57be-432c-e33f-d302e926e0d3"
      },
      "source": [
        "from sklearn.metrics import classification_report\n",
        "y_pred = new_model.predict(X_test)\n",
        "# y_pred.shape\n",
        "classification_report(integer_y_test, np.argmax(y_pred, axis = 1), output_dict=True)"
      ],
      "execution_count": null,
      "outputs": [
        {
          "output_type": "execute_result",
          "data": {
            "text/plain": [
              "{'0': {'f1-score': 0.996282527881041,\n",
              "  'precision': 0.9944341372912802,\n",
              "  'recall': 0.9981378026070763,\n",
              "  'support': 537},\n",
              " '1': {'f1-score': 0.92806484295846,\n",
              "  'precision': 0.9233870967741935,\n",
              "  'recall': 0.9327902240325866,\n",
              "  'support': 491},\n",
              " '2': {'f1-score': 0.9356060606060606,\n",
              "  'precision': 0.9427480916030534,\n",
              "  'recall': 0.9285714285714286,\n",
              "  'support': 532},\n",
              " '3': {'f1-score': 0.9718309859154929,\n",
              "  'precision': 0.9698795180722891,\n",
              "  'recall': 0.9737903225806451,\n",
              "  'support': 496},\n",
              " '4': {'f1-score': 0.9736842105263157,\n",
              "  'precision': 0.9783653846153846,\n",
              "  'recall': 0.969047619047619,\n",
              "  'support': 420},\n",
              " '5': {'f1-score': 0.9629629629629631,\n",
              "  'precision': 0.959915611814346,\n",
              "  'recall': 0.9660297239915074,\n",
              "  'support': 471},\n",
              " 'accuracy': 0.9613165931455717,\n",
              " 'macro avg': {'f1-score': 0.9614052651417221,\n",
              "  'precision': 0.961454973361758,\n",
              "  'recall': 0.9613945201384771,\n",
              "  'support': 2947},\n",
              " 'weighted avg': {'f1-score': 0.9613020266704579,\n",
              "  'precision': 0.961326819355699,\n",
              "  'recall': 0.9613165931455717,\n",
              "  'support': 2947}}"
            ]
          },
          "metadata": {
            "tags": []
          },
          "execution_count": 14
        }
      ]
    },
    {
      "cell_type": "code",
      "metadata": {
        "colab": {
          "base_uri": "https://localhost:8080/",
          "height": 585
        },
        "id": "JnkUdRkOSDs0",
        "outputId": "e26031bd-fa54-453b-dd1e-82ea7d4d4ecc"
      },
      "source": [
        "from sklearn.metrics import confusion_matrix\n",
        "import matplotlib.pyplot as plt\n",
        "def plot_confusion_matrix(cm,lables):\n",
        "    fig, ax = plt.subplots(figsize=(12,8)) # for plotting confusion matrix as image\n",
        "    im = ax.imshow(cm, interpolation='nearest', cmap=plt.cm.Blues)\n",
        "    ax.figure.colorbar(im, ax=ax)\n",
        "    ax.set(xticks=np.arange(cm.shape[1]),\n",
        "    yticks=np.arange(cm.shape[0]),\n",
        "    xticklabels=lables, yticklabels=lables,\n",
        "    ylabel='True label',\n",
        "    xlabel='Predicted label')\n",
        "    plt.xticks(rotation = 90)\n",
        "    thresh = cm.max() / 2.\n",
        "    for i in range(cm.shape[0]):\n",
        "        for j in range(cm.shape[1]):\n",
        "            ax.text(j, i, int(cm[i, j]),ha=\"center\", va=\"center\",color=\"white\" if cm[i, j] > thresh else \"black\")\n",
        "    fig.tight_layout()\n",
        "integer_y_pred = np.argmax(y_pred, axis = 1)\n",
        "string_y_pred = label_encoder.inverse_transform(integer_y_pred)\n",
        "cm = confusion_matrix(y_test,string_y_pred)\n",
        "plot_confusion_matrix(cm, np.unique(string_y_pred)) "
      ],
      "execution_count": null,
      "outputs": [
        {
          "output_type": "display_data",
          "data": {
            "image/png": "[encoded data removed]",
            "text/plain": [
              "<Figure size 864x576 with 2 Axes>"
            ]
          },
          "metadata": {
            "tags": [],
            "needs_background": "light"
          }
        }
      ]
    },
    {
      "cell_type": "code",
      "metadata": {
        "id": "PoEi8TFwTOKl"
      },
      "source": [],
      "execution_count": null,
      "outputs": []
    }
  ]
}