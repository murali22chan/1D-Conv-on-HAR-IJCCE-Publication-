{
  "nbformat": 4,
  "nbformat_minor": 0,
  "metadata": {
    "colab": {
      "provenance": []
    },
    "kernelspec": {
      "name": "python3",
      "display_name": "Python 3"
    },
    "language_info": {
      "name": "python"
    }
  },
  "cells": [
    {
      "cell_type": "code",
      "metadata": {
        "id": "6_NWDODawnuZ"
      },
      "source": [
        "import pandas as pd\n",
        "import numpy as np\n",
        "import tensorflow as tf\n",
        "import keras\n",
        "from keras.models import Sequential\n",
        "from keras.layers import Dense, Flatten, Dropout, Conv1D, MaxPooling1D\n",
        "from keras.utils import to_categorical\n",
        "from keras.callbacks import ReduceLROnPlateau , ModelCheckpoint\n",
        "from sklearn.preprocessing import LabelEncoder, OneHotEncoder\n",
        "from keras.optimizers import SGD, RMSprop"
      ],
      "execution_count": null,
      "outputs": []
    },
    {
      "cell_type": "code",
      "metadata": {
        "id": "KhNEfA4Z7EX_",
        "colab": {
          "base_uri": "https://localhost:8080/"
        },
        "outputId": "eebe35f3-0201-4378-9626-5b1a237c636c"
      },
      "source": [
        "from google.colab import drive\n",
        "drive.mount('/content/drive')"
      ],
      "execution_count": null,
      "outputs": [
        {
          "output_type": "stream",
          "text": [
            "Drive already mounted at /content/drive; to attempt to forcibly remount, call drive.mount(\"/content/drive\", force_remount=True).\n"
          ],
          "name": "stdout"
        }
      ]
    },
    {
      "cell_type": "code",
      "metadata": {
        "id": "QtEqOHNc7KZA",
        "colab": {
          "base_uri": "https://localhost:8080/"
        },
        "outputId": "ddd3f7f3-0592-42c8-99ee-c3985aba775d"
      },
      "source": [
        "!wget \"https://github.com/Reghunaath/Indian_food_dataset/raw/master/archive%20(1).zip\""
      ],
      "execution_count": null,
      "outputs": [
        {
          "output_type": "stream",
          "text": [
            "--2021-03-26 17:55:27--  https://github.com/Reghunaath/Indian_food_dataset/raw/master/archive%20(1).zip\n",
            "Resolving github.com (github.com)... 140.82.113.4\n",
            "Connecting to github.com (github.com)|140.82.113.4|:443... connected.\n",
            "HTTP request sent, awaiting response... 302 Found\n",
            "Location: https://raw.githubusercontent.com/Reghunaath/Indian_food_dataset/master/archive%20(1).zip [following]\n",
            "--2021-03-26 17:55:27--  https://raw.githubusercontent.com/Reghunaath/Indian_food_dataset/master/archive%20(1).zip\n",
            "Resolving raw.githubusercontent.com (raw.githubusercontent.com)... 185.199.108.133, 185.199.109.133, 185.199.110.133, ...\n",
            "Connecting to raw.githubusercontent.com (raw.githubusercontent.com)|185.199.108.133|:443... connected.\n",
            "HTTP request sent, awaiting response... 200 OK\n",
            "Length: 25693584 (25M) [application/zip]\n",
            "Saving to: ‘archive (1).zip.2’\n",
            "\n",
            "archive (1).zip.2   100%[===================>]  24.50M  52.2MB/s    in 0.5s    \n",
            "\n",
            "2021-03-26 17:55:28 (52.2 MB/s) - ‘archive (1).zip.2’ saved [25693584/25693584]\n",
            "\n"
          ],
          "name": "stdout"
        }
      ]
    },
    {
      "cell_type": "code",
      "metadata": {
        "id": "2v2O_rRy8511",
        "colab": {
          "base_uri": "https://localhost:8080/"
        },
        "outputId": "7d5b3da1-c536-45e4-8862-0f33bc705ede"
      },
      "source": [
        "!unzip \"/content/archive (1).zip\""
      ],
      "execution_count": null,
      "outputs": [
        {
          "output_type": "stream",
          "text": [
            "Archive:  /content/archive (1).zip\n",
            "replace test.csv? [y]es, [n]o, [A]ll, [N]one, [r]ename: y\n",
            "  inflating: test.csv                \n",
            "replace train.csv? [y]es, [n]o, [A]ll, [N]one, [r]ename: y\n",
            "  inflating: train.csv               \n"
          ],
          "name": "stdout"
        }
      ]
    },
    {
      "cell_type": "code",
      "metadata": {
        "id": "t8NCKs9kzaYk"
      },
      "source": [
        "test = pd.read_csv(\"/content/test.csv\")\n",
        "df = pd.read_csv(\"/content/train.csv\")"
      ],
      "execution_count": null,
      "outputs": []
    },
    {
      "cell_type": "code",
      "metadata": {
        "id": "Eu5CupXKz5Ku",
        "colab": {
          "base_uri": "https://localhost:8080/"
        },
        "outputId": "b59bc567-5faf-4f77-dd51-daa72e97739a"
      },
      "source": [
        "print(df.shape , test.shape)"
      ],
      "execution_count": null,
      "outputs": [
        {
          "output_type": "stream",
          "text": [
            "(7352, 563) (2947, 563)\n"
          ],
          "name": "stdout"
        }
      ]
    },
    {
      "cell_type": "code",
      "metadata": {
        "id": "IbAOu4Ze0Dq2",
        "colab": {
          "base_uri": "https://localhost:8080/"
        },
        "outputId": "9e3e0c62-08c6-423f-930d-af3ceeafc8d3"
      },
      "source": [
        "from sklearn.preprocessing import MinMaxScaler\n",
        "scaler = MinMaxScaler()\n",
        "scaler.fit(df.iloc[:,0:562])\n",
        "mat_train = scaler.transform(df.iloc[:,0:562])\n",
        "print(mat_train)"
      ],
      "execution_count": null,
      "outputs": [
        {
          "output_type": "stream",
          "text": [
            "[[0.64429225 0.48985291 0.43354743 ... 0.79825103 0.47068654 0.        ]\n",
            " [0.63920942 0.49179472 0.4382399  ... 0.79848665 0.47284164 0.        ]\n",
            " [0.63982653 0.49026642 0.44326915 ... 0.79872236 0.47544109 0.        ]\n",
            " ...\n",
            " [0.63669369 0.49149469 0.47748909 ... 0.84506893 0.52040559 1.        ]\n",
            " [0.64482708 0.49057848 0.42085971 ... 0.84323381 0.51266974 1.        ]\n",
            " [0.67575173 0.49378844 0.39806642 ... 0.84348837 0.51834742 1.        ]]\n"
          ],
          "name": "stdout"
        }
      ]
    },
    {
      "cell_type": "code",
      "metadata": {
        "id": "uvKWguXz0F73",
        "colab": {
          "base_uri": "https://localhost:8080/"
        },
        "outputId": "8e85b745-6e9c-47dc-b985-29dff00383dc"
      },
      "source": [
        "scaler = MinMaxScaler()\n",
        "scaler.fit(test.iloc[:,0:562])\n",
        "mat_test = scaler.transform(test.iloc[:,0:562])\n",
        "print(mat_test)"
      ],
      "execution_count": null,
      "outputs": [
        {
          "output_type": "stream",
          "text": [
            "[[0.6718788  0.55764282 0.52464834 ... 0.62209457 0.46362736 0.        ]\n",
            " [0.69470427 0.57426358 0.42707858 ... 0.62446791 0.45014396 0.        ]\n",
            " [0.68636345 0.55310221 0.42794829 ... 0.62380956 0.45251181 0.        ]\n",
            " ...\n",
            " [0.74529355 0.64526771 0.43015674 ... 0.62088108 0.58803909 1.        ]\n",
            " [0.65638384 0.62620241 0.44817885 ... 0.61581385 0.59135763 1.        ]\n",
            " [0.58994885 0.56560474 0.41032069 ... 0.61537208 0.59163879 1.        ]]\n"
          ],
          "name": "stdout"
        }
      ]
    },
    {
      "cell_type": "code",
      "metadata": {
        "id": "TI-gtLRh0IYT"
      },
      "source": [
        "temp = []\n",
        "for i in df.Activity:\n",
        "    if i == \"WALKING\": temp.append(3)\n",
        "    if i == \"WALKING_UPSTAIRS\": temp.append(5)\n",
        "    if i == \"WALKING_DOWNSTAIRS\": temp.append(4)\n",
        "    if i == \"SITTING\": temp.append(1)\n",
        "    if i == \"STANDING\": temp.append(2)\n",
        "    if i == \"LAYING\": temp.append(0)\n",
        "df[\"n_Activity\"] = temp"
      ],
      "execution_count": null,
      "outputs": []
    },
    {
      "cell_type": "code",
      "metadata": {
        "id": "ZlH6-kqn0MDJ"
      },
      "source": [
        "temp = []\n",
        "for i in test.Activity:\n",
        "    if i == \"WALKING\": temp.append(3)\n",
        "    if i == \"WALKING_UPSTAIRS\": temp.append(5)\n",
        "    if i == \"WALKING_DOWNSTAIRS\": temp.append(4)\n",
        "    if i == \"SITTING\": temp.append(1)\n",
        "    if i == \"STANDING\": temp.append(2)\n",
        "    if i == \"LAYING\": temp.append(0)\n",
        "test[\"n_Activity\"] = temp"
      ],
      "execution_count": null,
      "outputs": []
    },
    {
      "cell_type": "code",
      "metadata": {
        "id": "zV3fMTtK0Nro"
      },
      "source": [
        "df.drop([\"Activity\"] , axis = 1 , inplace = True)"
      ],
      "execution_count": null,
      "outputs": []
    },
    {
      "cell_type": "code",
      "metadata": {
        "id": "5qowwnPD0PeK"
      },
      "source": [
        "test.drop([\"Activity\"] , axis = 1 , inplace = True)"
      ],
      "execution_count": null,
      "outputs": []
    },
    {
      "cell_type": "code",
      "metadata": {
        "id": "LfI0ANqE0RnU"
      },
      "source": [
        "from keras.utils import to_categorical\n",
        "y_train = to_categorical(df.n_Activity , num_classes=6)\n",
        "y_test = to_categorical(test.n_Activity , num_classes=6)"
      ],
      "execution_count": null,
      "outputs": []
    },
    {
      "cell_type": "code",
      "metadata": {
        "id": "DYFQ9dXaWLxj"
      },
      "source": [
        "integer_y_test = test.n_Activity"
      ],
      "execution_count": null,
      "outputs": []
    },
    {
      "cell_type": "code",
      "metadata": {
        "id": "VaqmXWkC0Tdg"
      },
      "source": [
        "X_train = mat_train \n",
        "X_test = mat_test"
      ],
      "execution_count": null,
      "outputs": []
    },
    {
      "cell_type": "code",
      "metadata": {
        "id": "VWnxEoAo0VNa",
        "colab": {
          "base_uri": "https://localhost:8080/"
        },
        "outputId": "3dfc80b5-684d-4a4e-febd-de1c7f51e1cd"
      },
      "source": [
        "print(X_train.shape , y_train.shape)\n",
        "print(X_test.shape , y_test.shape)"
      ],
      "execution_count": null,
      "outputs": [
        {
          "output_type": "stream",
          "text": [
            "(7352, 562) (7352, 6)\n",
            "(2947, 562) (2947, 6)\n"
          ],
          "name": "stdout"
        }
      ]
    },
    {
      "cell_type": "code",
      "metadata": {
        "id": "ahwbw-kM0W0W",
        "colab": {
          "base_uri": "https://localhost:8080/"
        },
        "outputId": "0a912db5-1051-49ec-866d-c649f1c29a5e"
      },
      "source": [
        "filepath=\"HAR_weights.hdf5\"\n",
        "from keras.callbacks import ReduceLROnPlateau , ModelCheckpoint\n",
        "\n",
        "lr_reduce = ReduceLROnPlateau(monitor='val_accuracy', factor=0.1, epsilon=0.0001, patience=1, verbose=1)\n",
        "checkpoint = ModelCheckpoint(filepath, monitor='val_accuracy', verbose=1, save_best_only=True, mode='max')"
      ],
      "execution_count": null,
      "outputs": [
        {
          "output_type": "stream",
          "text": [
            "WARNING:tensorflow:`epsilon` argument is deprecated and will be removed, use `min_delta` instead.\n"
          ],
          "name": "stdout"
        }
      ]
    },
    {
      "cell_type": "code",
      "metadata": {
        "id": "uqubYXVOEHS5"
      },
      "source": [
        "class myCallback(tf.keras.callbacks.Callback): \n",
        "    def on_epoch_end(self, epoch, logs={}): \n",
        "        if(logs.get('val_accuracy') > 0.93):   \n",
        "          print(\"\\nReached %2.2f%% accuracy, so stopping training!!\" %(93))   \n",
        "          self.model.stop_training = True\n",
        "callback = myCallback()"
      ],
      "execution_count": null,
      "outputs": []
    },
    {
      "cell_type": "code",
      "metadata": {
        "id": "pblP_z8h0bxu"
      },
      "source": [
        "from keras.models import Sequential\n",
        "from keras.layers import Dense, Dropout , BatchNormalization\n",
        "from sklearn.model_selection import train_test_split\n",
        "from keras.utils import np_utils\n",
        "from keras.optimizers import RMSprop, Adam"
      ],
      "execution_count": null,
      "outputs": []
    },
    {
      "cell_type": "code",
      "metadata": {
        "id": "E_tRbFro0eyZ",
        "colab": {
          "base_uri": "https://localhost:8080/"
        },
        "outputId": "ca8466f2-3270-4565-9ca4-49a74281e219"
      },
      "source": [
        "model = Sequential()\n",
        "\n",
        "model.add(Dense(64, input_dim=X_train.shape[1] , activation='relu'))\n",
        "model.add(Dense(64, activation='relu'))\n",
        "model.add(BatchNormalization())\n",
        "model.add(Dense(128, activation='relu'))\n",
        "model.add(Dense(196, activation='relu'))\n",
        "model.add(Dense(32, activation='relu'))\n",
        "model.add(Dense(6, activation='sigmoid'))\n",
        "\n",
        "model.compile(optimizer = Adam(lr = 0.001),loss='categorical_crossentropy', metrics=['accuracy'])\n",
        "print(model.summary())"
      ],
      "execution_count": null,
      "outputs": [
        {
          "output_type": "stream",
          "text": [
            "Model: \"sequential_2\"\n",
            "_________________________________________________________________\n",
            "Layer (type)                 Output Shape              Param #   \n",
            "=================================================================\n",
            "dense_12 (Dense)             (None, 64)                36032     \n",
            "_________________________________________________________________\n",
            "dense_13 (Dense)             (None, 64)                4160      \n",
            "_________________________________________________________________\n",
            "batch_normalization_2 (Batch (None, 64)                256       \n",
            "_________________________________________________________________\n",
            "dense_14 (Dense)             (None, 128)               8320      \n",
            "_________________________________________________________________\n",
            "dense_15 (Dense)             (None, 196)               25284     \n",
            "_________________________________________________________________\n",
            "dense_16 (Dense)             (None, 32)                6304      \n",
            "_________________________________________________________________\n",
            "dense_17 (Dense)             (None, 6)                 198       \n",
            "=================================================================\n",
            "Total params: 80,554\n",
            "Trainable params: 80,426\n",
            "Non-trainable params: 128\n",
            "_________________________________________________________________\n",
            "None\n"
          ],
          "name": "stdout"
        }
      ]
    },
    {
      "cell_type": "code",
      "metadata": {
        "id": "grTHy8qO0gZN",
        "colab": {
          "base_uri": "https://localhost:8080/"
        },
        "outputId": "ea7bdc45-33b1-4950-d7be-517ae502019e"
      },
      "source": [
        "model.fit(X_train, y_train , epochs=200 , batch_size = 128 , validation_data=(X_test, y_test) , callbacks=[callback,checkpoint])"
      ],
      "execution_count": null,
      "outputs": [
        {
          "output_type": "stream",
          "text": [
            "Epoch 1/200\n",
            "58/58 [==============================] - 1s 10ms/step - loss: 0.8155 - accuracy: 0.6973 - val_loss: 0.8375 - val_accuracy: 0.5755\n",
            "\n",
            "Epoch 00001: val_accuracy improved from -inf to 0.57550, saving model to HAR_weights.hdf5\n",
            "Epoch 2/200\n",
            "58/58 [==============================] - 0s 6ms/step - loss: 0.1339 - accuracy: 0.9436 - val_loss: 0.6821 - val_accuracy: 0.7180\n",
            "\n",
            "Epoch 00002: val_accuracy improved from 0.57550 to 0.71802, saving model to HAR_weights.hdf5\n",
            "Epoch 3/200\n",
            "58/58 [==============================] - 0s 6ms/step - loss: 0.1028 - accuracy: 0.9603 - val_loss: 0.5160 - val_accuracy: 0.7743\n",
            "\n",
            "Epoch 00003: val_accuracy improved from 0.71802 to 0.77435, saving model to HAR_weights.hdf5\n",
            "Epoch 4/200\n",
            "58/58 [==============================] - 0s 6ms/step - loss: 0.0859 - accuracy: 0.9652 - val_loss: 0.3076 - val_accuracy: 0.8602\n",
            "\n",
            "Epoch 00004: val_accuracy improved from 0.77435 to 0.86020, saving model to HAR_weights.hdf5\n",
            "Epoch 5/200\n",
            "58/58 [==============================] - 0s 6ms/step - loss: 0.0718 - accuracy: 0.9708 - val_loss: 0.3041 - val_accuracy: 0.8748\n",
            "\n",
            "Epoch 00005: val_accuracy improved from 0.86020 to 0.87479, saving model to HAR_weights.hdf5\n",
            "Epoch 6/200\n",
            "58/58 [==============================] - 0s 5ms/step - loss: 0.0530 - accuracy: 0.9781 - val_loss: 0.4383 - val_accuracy: 0.8388\n",
            "\n",
            "Epoch 00006: val_accuracy did not improve from 0.87479\n",
            "Epoch 7/200\n",
            "58/58 [==============================] - 0s 6ms/step - loss: 0.0395 - accuracy: 0.9849 - val_loss: 0.5211 - val_accuracy: 0.8337\n",
            "\n",
            "Epoch 00007: val_accuracy did not improve from 0.87479\n",
            "Epoch 8/200\n",
            "58/58 [==============================] - 0s 6ms/step - loss: 0.0376 - accuracy: 0.9858 - val_loss: 0.7349 - val_accuracy: 0.8083\n",
            "\n",
            "Epoch 00008: val_accuracy did not improve from 0.87479\n",
            "Epoch 9/200\n",
            "58/58 [==============================] - 0s 5ms/step - loss: 0.0430 - accuracy: 0.9822 - val_loss: 1.4381 - val_accuracy: 0.7567\n",
            "\n",
            "Epoch 00009: val_accuracy did not improve from 0.87479\n",
            "Epoch 10/200\n",
            "58/58 [==============================] - 0s 6ms/step - loss: 0.0356 - accuracy: 0.9864 - val_loss: 0.6445 - val_accuracy: 0.8317\n",
            "\n",
            "Epoch 00010: val_accuracy did not improve from 0.87479\n",
            "Epoch 11/200\n",
            "58/58 [==============================] - 0s 6ms/step - loss: 0.0358 - accuracy: 0.9862 - val_loss: 0.8194 - val_accuracy: 0.7974\n",
            "\n",
            "Epoch 00011: val_accuracy did not improve from 0.87479\n",
            "Epoch 12/200\n",
            "58/58 [==============================] - 0s 6ms/step - loss: 0.0331 - accuracy: 0.9880 - val_loss: 0.5602 - val_accuracy: 0.8229\n",
            "\n",
            "Epoch 00012: val_accuracy did not improve from 0.87479\n",
            "Epoch 13/200\n",
            "58/58 [==============================] - 0s 6ms/step - loss: 0.0523 - accuracy: 0.9804 - val_loss: 0.7915 - val_accuracy: 0.8307\n",
            "\n",
            "Epoch 00013: val_accuracy did not improve from 0.87479\n",
            "Epoch 14/200\n",
            "58/58 [==============================] - 0s 6ms/step - loss: 0.0416 - accuracy: 0.9831 - val_loss: 0.3134 - val_accuracy: 0.9165\n",
            "\n",
            "Epoch 00014: val_accuracy improved from 0.87479 to 0.91653, saving model to HAR_weights.hdf5\n",
            "Epoch 15/200\n",
            "58/58 [==============================] - 0s 6ms/step - loss: 0.0469 - accuracy: 0.9843 - val_loss: 0.4338 - val_accuracy: 0.8653\n",
            "\n",
            "Epoch 00015: val_accuracy did not improve from 0.91653\n",
            "Epoch 16/200\n",
            "58/58 [==============================] - 0s 5ms/step - loss: 0.0329 - accuracy: 0.9868 - val_loss: 0.4285 - val_accuracy: 0.8683\n",
            "\n",
            "Epoch 00016: val_accuracy did not improve from 0.91653\n",
            "Epoch 17/200\n",
            "58/58 [==============================] - 0s 6ms/step - loss: 0.0259 - accuracy: 0.9894 - val_loss: 0.3463 - val_accuracy: 0.9023\n",
            "\n",
            "Epoch 00017: val_accuracy did not improve from 0.91653\n",
            "Epoch 18/200\n",
            "58/58 [==============================] - 0s 6ms/step - loss: 0.0256 - accuracy: 0.9914 - val_loss: 0.6349 - val_accuracy: 0.8361\n",
            "\n",
            "Epoch 00018: val_accuracy did not improve from 0.91653\n",
            "Epoch 19/200\n",
            "58/58 [==============================] - 0s 5ms/step - loss: 0.0245 - accuracy: 0.9914 - val_loss: 0.2817 - val_accuracy: 0.9175\n",
            "\n",
            "Epoch 00019: val_accuracy improved from 0.91653 to 0.91754, saving model to HAR_weights.hdf5\n",
            "Epoch 20/200\n",
            "58/58 [==============================] - 0s 5ms/step - loss: 0.0338 - accuracy: 0.9880 - val_loss: 1.0220 - val_accuracy: 0.8473\n",
            "\n",
            "Epoch 00020: val_accuracy did not improve from 0.91754\n",
            "Epoch 21/200\n",
            "58/58 [==============================] - 0s 6ms/step - loss: 0.0393 - accuracy: 0.9868 - val_loss: 0.4879 - val_accuracy: 0.8670\n",
            "\n",
            "Epoch 00021: val_accuracy did not improve from 0.91754\n",
            "Epoch 22/200\n",
            "58/58 [==============================] - 0s 5ms/step - loss: 0.0226 - accuracy: 0.9924 - val_loss: 0.4946 - val_accuracy: 0.9186\n",
            "\n",
            "Epoch 00022: val_accuracy improved from 0.91754 to 0.91856, saving model to HAR_weights.hdf5\n",
            "Epoch 23/200\n",
            "58/58 [==============================] - 0s 5ms/step - loss: 0.0406 - accuracy: 0.9836 - val_loss: 0.5861 - val_accuracy: 0.8300\n",
            "\n",
            "Epoch 00023: val_accuracy did not improve from 0.91856\n",
            "Epoch 24/200\n",
            "58/58 [==============================] - 0s 6ms/step - loss: 0.0237 - accuracy: 0.9924 - val_loss: 0.7286 - val_accuracy: 0.8195\n",
            "\n",
            "Epoch 00024: val_accuracy did not improve from 0.91856\n",
            "Epoch 25/200\n",
            "58/58 [==============================] - 0s 6ms/step - loss: 0.0398 - accuracy: 0.9859 - val_loss: 1.2934 - val_accuracy: 0.7947\n",
            "\n",
            "Epoch 00025: val_accuracy did not improve from 0.91856\n",
            "Epoch 26/200\n",
            "58/58 [==============================] - 0s 6ms/step - loss: 0.0318 - accuracy: 0.9874 - val_loss: 2.0305 - val_accuracy: 0.7849\n",
            "\n",
            "Epoch 00026: val_accuracy did not improve from 0.91856\n",
            "Epoch 27/200\n",
            "58/58 [==============================] - 0s 5ms/step - loss: 0.0235 - accuracy: 0.9912 - val_loss: 0.6586 - val_accuracy: 0.8497\n",
            "\n",
            "Epoch 00027: val_accuracy did not improve from 0.91856\n",
            "Epoch 28/200\n",
            "58/58 [==============================] - 0s 5ms/step - loss: 0.0176 - accuracy: 0.9923 - val_loss: 0.7790 - val_accuracy: 0.8453\n",
            "\n",
            "Epoch 00028: val_accuracy did not improve from 0.91856\n",
            "Epoch 29/200\n",
            "58/58 [==============================] - 0s 6ms/step - loss: 0.0171 - accuracy: 0.9939 - val_loss: 0.5120 - val_accuracy: 0.8802\n",
            "\n",
            "Epoch 00029: val_accuracy did not improve from 0.91856\n",
            "Epoch 30/200\n",
            "58/58 [==============================] - 0s 6ms/step - loss: 0.0141 - accuracy: 0.9947 - val_loss: 0.4796 - val_accuracy: 0.8979\n",
            "\n",
            "Epoch 00030: val_accuracy did not improve from 0.91856\n",
            "Epoch 31/200\n",
            "58/58 [==============================] - 0s 5ms/step - loss: 0.0326 - accuracy: 0.9878 - val_loss: 0.7255 - val_accuracy: 0.8711\n",
            "\n",
            "Epoch 00031: val_accuracy did not improve from 0.91856\n",
            "Epoch 32/200\n",
            "58/58 [==============================] - 0s 6ms/step - loss: 0.0159 - accuracy: 0.9943 - val_loss: 0.3780 - val_accuracy: 0.9199\n",
            "\n",
            "Epoch 00032: val_accuracy improved from 0.91856 to 0.91992, saving model to HAR_weights.hdf5\n",
            "Epoch 33/200\n",
            "58/58 [==============================] - 0s 5ms/step - loss: 0.0160 - accuracy: 0.9937 - val_loss: 0.9980 - val_accuracy: 0.8320\n",
            "\n",
            "Epoch 00033: val_accuracy did not improve from 0.91992\n",
            "Epoch 34/200\n",
            "58/58 [==============================] - 0s 6ms/step - loss: 0.0192 - accuracy: 0.9925 - val_loss: 0.8466 - val_accuracy: 0.8276\n",
            "\n",
            "Epoch 00034: val_accuracy did not improve from 0.91992\n",
            "Epoch 35/200\n",
            "58/58 [==============================] - 0s 6ms/step - loss: 0.0122 - accuracy: 0.9942 - val_loss: 1.4906 - val_accuracy: 0.7570\n",
            "\n",
            "Epoch 00035: val_accuracy did not improve from 0.91992\n",
            "Epoch 36/200\n",
            "58/58 [==============================] - 0s 5ms/step - loss: 0.0112 - accuracy: 0.9968 - val_loss: 0.7850 - val_accuracy: 0.8527\n",
            "\n",
            "Epoch 00036: val_accuracy did not improve from 0.91992\n",
            "Epoch 37/200\n",
            "58/58 [==============================] - 0s 6ms/step - loss: 0.0095 - accuracy: 0.9967 - val_loss: 1.1071 - val_accuracy: 0.8280\n",
            "\n",
            "Epoch 00037: val_accuracy did not improve from 0.91992\n",
            "Epoch 38/200\n",
            "58/58 [==============================] - 0s 6ms/step - loss: 0.0103 - accuracy: 0.9965 - val_loss: 0.4135 - val_accuracy: 0.9087\n",
            "\n",
            "Epoch 00038: val_accuracy did not improve from 0.91992\n",
            "Epoch 39/200\n",
            "58/58 [==============================] - 0s 6ms/step - loss: 0.0103 - accuracy: 0.9963 - val_loss: 0.8135 - val_accuracy: 0.8605\n",
            "\n",
            "Epoch 00039: val_accuracy did not improve from 0.91992\n",
            "Epoch 40/200\n",
            "58/58 [==============================] - 0s 6ms/step - loss: 0.0067 - accuracy: 0.9976 - val_loss: 1.7411 - val_accuracy: 0.7615\n",
            "\n",
            "Epoch 00040: val_accuracy did not improve from 0.91992\n",
            "Epoch 41/200\n",
            "58/58 [==============================] - 0s 6ms/step - loss: 0.0079 - accuracy: 0.9968 - val_loss: 2.6250 - val_accuracy: 0.6736\n",
            "\n",
            "Epoch 00041: val_accuracy did not improve from 0.91992\n",
            "Epoch 42/200\n",
            "58/58 [==============================] - 0s 5ms/step - loss: 0.0129 - accuracy: 0.9949 - val_loss: 1.2918 - val_accuracy: 0.8174\n",
            "\n",
            "Epoch 00042: val_accuracy did not improve from 0.91992\n",
            "Epoch 43/200\n",
            "58/58 [==============================] - 0s 6ms/step - loss: 0.0178 - accuracy: 0.9951 - val_loss: 0.7408 - val_accuracy: 0.8470\n",
            "\n",
            "Epoch 00043: val_accuracy did not improve from 0.91992\n",
            "Epoch 44/200\n",
            "58/58 [==============================] - 0s 6ms/step - loss: 0.0190 - accuracy: 0.9947 - val_loss: 0.9855 - val_accuracy: 0.8168\n",
            "\n",
            "Epoch 00044: val_accuracy did not improve from 0.91992\n",
            "Epoch 45/200\n",
            "58/58 [==============================] - 0s 6ms/step - loss: 0.0197 - accuracy: 0.9926 - val_loss: 1.0096 - val_accuracy: 0.8134\n",
            "\n",
            "Epoch 00045: val_accuracy did not improve from 0.91992\n",
            "Epoch 46/200\n",
            "58/58 [==============================] - 0s 6ms/step - loss: 0.0209 - accuracy: 0.9922 - val_loss: 0.7426 - val_accuracy: 0.8490\n",
            "\n",
            "Epoch 00046: val_accuracy did not improve from 0.91992\n",
            "Epoch 47/200\n",
            "58/58 [==============================] - 0s 6ms/step - loss: 0.0084 - accuracy: 0.9974 - val_loss: 1.6044 - val_accuracy: 0.7255\n",
            "\n",
            "Epoch 00047: val_accuracy did not improve from 0.91992\n",
            "Epoch 48/200\n",
            "58/58 [==============================] - 0s 5ms/step - loss: 0.0040 - accuracy: 0.9989 - val_loss: 0.8681 - val_accuracy: 0.8409\n",
            "\n",
            "Epoch 00048: val_accuracy did not improve from 0.91992\n",
            "Epoch 49/200\n",
            "58/58 [==============================] - 0s 6ms/step - loss: 0.0102 - accuracy: 0.9965 - val_loss: 0.6183 - val_accuracy: 0.8724\n",
            "\n",
            "Epoch 00049: val_accuracy did not improve from 0.91992\n",
            "Epoch 50/200\n",
            "58/58 [==============================] - 0s 6ms/step - loss: 0.0057 - accuracy: 0.9979 - val_loss: 0.7202 - val_accuracy: 0.8677\n",
            "\n",
            "Epoch 00050: val_accuracy did not improve from 0.91992\n",
            "Epoch 51/200\n",
            "58/58 [==============================] - 0s 5ms/step - loss: 0.0060 - accuracy: 0.9980 - val_loss: 0.8122 - val_accuracy: 0.8317\n",
            "\n",
            "Epoch 00051: val_accuracy did not improve from 0.91992\n",
            "Epoch 52/200\n",
            "58/58 [==============================] - 0s 6ms/step - loss: 0.0102 - accuracy: 0.9957 - val_loss: 0.8085 - val_accuracy: 0.8629\n",
            "\n",
            "Epoch 00052: val_accuracy did not improve from 0.91992\n",
            "Epoch 53/200\n",
            "58/58 [==============================] - 0s 6ms/step - loss: 0.0097 - accuracy: 0.9973 - val_loss: 2.2110 - val_accuracy: 0.7265\n",
            "\n",
            "Epoch 00053: val_accuracy did not improve from 0.91992\n",
            "Epoch 54/200\n",
            "58/58 [==============================] - 0s 5ms/step - loss: 0.0070 - accuracy: 0.9974 - val_loss: 0.8347 - val_accuracy: 0.8405\n",
            "\n",
            "Epoch 00054: val_accuracy did not improve from 0.91992\n",
            "Epoch 55/200\n",
            "58/58 [==============================] - 0s 6ms/step - loss: 0.0164 - accuracy: 0.9941 - val_loss: 0.7216 - val_accuracy: 0.8755\n",
            "\n",
            "Epoch 00055: val_accuracy did not improve from 0.91992\n",
            "Epoch 56/200\n",
            "58/58 [==============================] - 0s 5ms/step - loss: 0.0062 - accuracy: 0.9976 - val_loss: 0.6960 - val_accuracy: 0.8880\n",
            "\n",
            "Epoch 00056: val_accuracy did not improve from 0.91992\n",
            "Epoch 57/200\n",
            "58/58 [==============================] - 0s 6ms/step - loss: 0.0026 - accuracy: 0.9996 - val_loss: 0.6793 - val_accuracy: 0.8724\n",
            "\n",
            "Epoch 00057: val_accuracy did not improve from 0.91992\n",
            "Epoch 58/200\n",
            "58/58 [==============================] - 0s 6ms/step - loss: 0.0090 - accuracy: 0.9974 - val_loss: 1.0051 - val_accuracy: 0.8324\n",
            "\n",
            "Epoch 00058: val_accuracy did not improve from 0.91992\n",
            "Epoch 59/200\n",
            "58/58 [==============================] - 0s 6ms/step - loss: 0.0097 - accuracy: 0.9964 - val_loss: 2.0144 - val_accuracy: 0.7913\n",
            "\n",
            "Epoch 00059: val_accuracy did not improve from 0.91992\n",
            "Epoch 60/200\n",
            "58/58 [==============================] - 0s 6ms/step - loss: 0.0045 - accuracy: 0.9986 - val_loss: 0.8182 - val_accuracy: 0.8704\n",
            "\n",
            "Epoch 00060: val_accuracy did not improve from 0.91992\n",
            "Epoch 61/200\n",
            "58/58 [==============================] - 0s 5ms/step - loss: 0.0029 - accuracy: 0.9992 - val_loss: 0.8866 - val_accuracy: 0.8483\n",
            "\n",
            "Epoch 00061: val_accuracy did not improve from 0.91992\n",
            "Epoch 62/200\n",
            "58/58 [==============================] - 0s 6ms/step - loss: 0.0013 - accuracy: 0.9998 - val_loss: 0.4866 - val_accuracy: 0.9084\n",
            "\n",
            "Epoch 00062: val_accuracy did not improve from 0.91992\n",
            "Epoch 63/200\n",
            "58/58 [==============================] - 0s 6ms/step - loss: 0.0114 - accuracy: 0.9962 - val_loss: 0.5440 - val_accuracy: 0.9125\n",
            "\n",
            "Epoch 00063: val_accuracy did not improve from 0.91992\n",
            "Epoch 64/200\n",
            "58/58 [==============================] - 0s 5ms/step - loss: 0.0063 - accuracy: 0.9977 - val_loss: 1.1840 - val_accuracy: 0.8242\n",
            "\n",
            "Epoch 00064: val_accuracy did not improve from 0.91992\n",
            "Epoch 65/200\n",
            "58/58 [==============================] - 0s 6ms/step - loss: 0.0016 - accuracy: 0.9996 - val_loss: 0.8956 - val_accuracy: 0.8588\n",
            "\n",
            "Epoch 00065: val_accuracy did not improve from 0.91992\n",
            "Epoch 66/200\n",
            "58/58 [==============================] - 0s 5ms/step - loss: 0.0011 - accuracy: 0.9998 - val_loss: 1.1864 - val_accuracy: 0.8347\n",
            "\n",
            "Epoch 00066: val_accuracy did not improve from 0.91992\n",
            "Epoch 67/200\n",
            "58/58 [==============================] - 0s 6ms/step - loss: 0.0014 - accuracy: 0.9994 - val_loss: 1.1826 - val_accuracy: 0.8402\n",
            "\n",
            "Epoch 00067: val_accuracy did not improve from 0.91992\n",
            "Epoch 68/200\n",
            "58/58 [==============================] - 0s 6ms/step - loss: 0.0448 - accuracy: 0.9907 - val_loss: 1.5189 - val_accuracy: 0.7723\n",
            "\n",
            "Epoch 00068: val_accuracy did not improve from 0.91992\n",
            "Epoch 69/200\n",
            "58/58 [==============================] - 0s 5ms/step - loss: 0.0151 - accuracy: 0.9956 - val_loss: 4.0486 - val_accuracy: 0.4818\n",
            "\n",
            "Epoch 00069: val_accuracy did not improve from 0.91992\n",
            "Epoch 70/200\n",
            "58/58 [==============================] - 0s 6ms/step - loss: 0.0139 - accuracy: 0.9959 - val_loss: 2.9701 - val_accuracy: 0.5738\n",
            "\n",
            "Epoch 00070: val_accuracy did not improve from 0.91992\n",
            "Epoch 71/200\n",
            "58/58 [==============================] - 0s 6ms/step - loss: 0.0074 - accuracy: 0.9972 - val_loss: 0.7337 - val_accuracy: 0.8368\n",
            "\n",
            "Epoch 00071: val_accuracy did not improve from 0.91992\n",
            "Epoch 72/200\n",
            "58/58 [==============================] - 0s 6ms/step - loss: 0.0155 - accuracy: 0.9942 - val_loss: 0.5178 - val_accuracy: 0.8887\n",
            "\n",
            "Epoch 00072: val_accuracy did not improve from 0.91992\n",
            "Epoch 73/200\n",
            "58/58 [==============================] - 0s 6ms/step - loss: 0.0122 - accuracy: 0.9953 - val_loss: 0.6579 - val_accuracy: 0.8653\n",
            "\n",
            "Epoch 00073: val_accuracy did not improve from 0.91992\n",
            "Epoch 74/200\n",
            "58/58 [==============================] - 0s 6ms/step - loss: 0.0130 - accuracy: 0.9961 - val_loss: 0.4511 - val_accuracy: 0.8870\n",
            "\n",
            "Epoch 00074: val_accuracy did not improve from 0.91992\n",
            "Epoch 75/200\n",
            "58/58 [==============================] - 0s 6ms/step - loss: 0.0182 - accuracy: 0.9938 - val_loss: 1.4588 - val_accuracy: 0.7682\n",
            "\n",
            "Epoch 00075: val_accuracy did not improve from 0.91992\n",
            "Epoch 76/200\n",
            "58/58 [==============================] - 0s 6ms/step - loss: 0.0036 - accuracy: 0.9990 - val_loss: 0.4964 - val_accuracy: 0.8870\n",
            "\n",
            "Epoch 00076: val_accuracy did not improve from 0.91992\n",
            "Epoch 77/200\n",
            "58/58 [==============================] - 0s 6ms/step - loss: 0.0025 - accuracy: 0.9989 - val_loss: 0.8992 - val_accuracy: 0.8402\n",
            "\n",
            "Epoch 00077: val_accuracy did not improve from 0.91992\n",
            "Epoch 78/200\n",
            "58/58 [==============================] - 0s 6ms/step - loss: 0.0019 - accuracy: 0.9994 - val_loss: 0.7607 - val_accuracy: 0.8514\n",
            "\n",
            "Epoch 00078: val_accuracy did not improve from 0.91992\n",
            "Epoch 79/200\n",
            "58/58 [==============================] - 0s 6ms/step - loss: 0.0029 - accuracy: 0.9988 - val_loss: 0.6356 - val_accuracy: 0.8843\n",
            "\n",
            "Epoch 00079: val_accuracy did not improve from 0.91992\n",
            "Epoch 80/200\n",
            "58/58 [==============================] - 0s 6ms/step - loss: 0.0026 - accuracy: 0.9987 - val_loss: 1.1393 - val_accuracy: 0.8181\n",
            "\n",
            "Epoch 00080: val_accuracy did not improve from 0.91992\n",
            "Epoch 81/200\n",
            "58/58 [==============================] - 0s 5ms/step - loss: 0.0040 - accuracy: 0.9983 - val_loss: 0.9181 - val_accuracy: 0.8439\n",
            "\n",
            "Epoch 00081: val_accuracy did not improve from 0.91992\n",
            "Epoch 82/200\n",
            "58/58 [==============================] - 0s 6ms/step - loss: 0.0117 - accuracy: 0.9961 - val_loss: 0.7093 - val_accuracy: 0.8717\n",
            "\n",
            "Epoch 00082: val_accuracy did not improve from 0.91992\n",
            "Epoch 83/200\n",
            "58/58 [==============================] - 0s 6ms/step - loss: 0.0010 - accuracy: 0.9999 - val_loss: 0.7386 - val_accuracy: 0.8717\n",
            "\n",
            "Epoch 00083: val_accuracy did not improve from 0.91992\n",
            "Epoch 84/200\n",
            "58/58 [==============================] - 0s 6ms/step - loss: 0.0015 - accuracy: 0.9992 - val_loss: 1.1849 - val_accuracy: 0.8242\n",
            "\n",
            "Epoch 00084: val_accuracy did not improve from 0.91992\n",
            "Epoch 85/200\n",
            "58/58 [==============================] - 0s 6ms/step - loss: 0.0062 - accuracy: 0.9985 - val_loss: 1.4031 - val_accuracy: 0.8130\n",
            "\n",
            "Epoch 00085: val_accuracy did not improve from 0.91992\n",
            "Epoch 86/200\n",
            "58/58 [==============================] - 0s 6ms/step - loss: 0.0074 - accuracy: 0.9971 - val_loss: 1.9124 - val_accuracy: 0.7526\n",
            "\n",
            "Epoch 00086: val_accuracy did not improve from 0.91992\n",
            "Epoch 87/200\n",
            "58/58 [==============================] - 0s 6ms/step - loss: 0.0016 - accuracy: 0.9996 - val_loss: 0.8716 - val_accuracy: 0.8636\n",
            "\n",
            "Epoch 00087: val_accuracy did not improve from 0.91992\n",
            "Epoch 88/200\n",
            "58/58 [==============================] - 0s 6ms/step - loss: 0.0075 - accuracy: 0.9972 - val_loss: 0.4692 - val_accuracy: 0.9121\n",
            "\n",
            "Epoch 00088: val_accuracy did not improve from 0.91992\n",
            "Epoch 89/200\n",
            "58/58 [==============================] - 0s 6ms/step - loss: 0.0080 - accuracy: 0.9974 - val_loss: 0.8292 - val_accuracy: 0.8660\n",
            "\n",
            "Epoch 00089: val_accuracy did not improve from 0.91992\n",
            "Epoch 90/200\n",
            "58/58 [==============================] - 0s 6ms/step - loss: 0.0085 - accuracy: 0.9975 - val_loss: 2.0556 - val_accuracy: 0.7146\n",
            "\n",
            "Epoch 00090: val_accuracy did not improve from 0.91992\n",
            "Epoch 91/200\n",
            "58/58 [==============================] - 0s 5ms/step - loss: 0.0119 - accuracy: 0.9938 - val_loss: 2.0723 - val_accuracy: 0.7224\n",
            "\n",
            "Epoch 00091: val_accuracy did not improve from 0.91992\n",
            "Epoch 92/200\n",
            "58/58 [==============================] - 0s 6ms/step - loss: 0.0090 - accuracy: 0.9958 - val_loss: 1.2493 - val_accuracy: 0.7927\n",
            "\n",
            "Epoch 00092: val_accuracy did not improve from 0.91992\n",
            "Epoch 93/200\n",
            "58/58 [==============================] - 0s 6ms/step - loss: 0.0307 - accuracy: 0.9914 - val_loss: 0.3807 - val_accuracy: 0.9101\n",
            "\n",
            "Epoch 00093: val_accuracy did not improve from 0.91992\n",
            "Epoch 94/200\n",
            "58/58 [==============================] - 0s 6ms/step - loss: 0.0030 - accuracy: 0.9996 - val_loss: 0.4362 - val_accuracy: 0.9067\n",
            "\n",
            "Epoch 00094: val_accuracy did not improve from 0.91992\n",
            "Epoch 95/200\n",
            "58/58 [==============================] - 0s 6ms/step - loss: 0.0019 - accuracy: 0.9995 - val_loss: 0.6369 - val_accuracy: 0.8843\n",
            "\n",
            "Epoch 00095: val_accuracy did not improve from 0.91992\n",
            "Epoch 96/200\n",
            "58/58 [==============================] - 0s 6ms/step - loss: 0.0024 - accuracy: 0.9995 - val_loss: 0.8517 - val_accuracy: 0.8466\n",
            "\n",
            "Epoch 00096: val_accuracy did not improve from 0.91992\n",
            "Epoch 97/200\n",
            "58/58 [==============================] - 0s 6ms/step - loss: 0.0019 - accuracy: 0.9995 - val_loss: 0.7518 - val_accuracy: 0.8758\n",
            "\n",
            "Epoch 00097: val_accuracy did not improve from 0.91992\n",
            "Epoch 98/200\n",
            "58/58 [==============================] - 0s 6ms/step - loss: 8.2436e-04 - accuracy: 0.9998 - val_loss: 1.0961 - val_accuracy: 0.8337\n",
            "\n",
            "Epoch 00098: val_accuracy did not improve from 0.91992\n",
            "Epoch 99/200\n",
            "58/58 [==============================] - 0s 6ms/step - loss: 0.0062 - accuracy: 0.9982 - val_loss: 1.2449 - val_accuracy: 0.8076\n",
            "\n",
            "Epoch 00099: val_accuracy did not improve from 0.91992\n",
            "Epoch 100/200\n",
            "58/58 [==============================] - 0s 6ms/step - loss: 0.0014 - accuracy: 0.9997 - val_loss: 0.4966 - val_accuracy: 0.9006\n",
            "\n",
            "Epoch 00100: val_accuracy did not improve from 0.91992\n",
            "Epoch 101/200\n",
            "58/58 [==============================] - 0s 6ms/step - loss: 0.0150 - accuracy: 0.9954 - val_loss: 0.5095 - val_accuracy: 0.9063\n",
            "\n",
            "Epoch 00101: val_accuracy did not improve from 0.91992\n",
            "Epoch 102/200\n",
            "58/58 [==============================] - 0s 6ms/step - loss: 0.0046 - accuracy: 0.9982 - val_loss: 0.4771 - val_accuracy: 0.9091\n",
            "\n",
            "Epoch 00102: val_accuracy did not improve from 0.91992\n",
            "Epoch 103/200\n",
            "58/58 [==============================] - 0s 5ms/step - loss: 0.0028 - accuracy: 0.9988 - val_loss: 0.6131 - val_accuracy: 0.8802\n",
            "\n",
            "Epoch 00103: val_accuracy did not improve from 0.91992\n",
            "Epoch 104/200\n",
            "58/58 [==============================] - 0s 6ms/step - loss: 9.3437e-04 - accuracy: 0.9997 - val_loss: 0.7475 - val_accuracy: 0.8782\n",
            "\n",
            "Epoch 00104: val_accuracy did not improve from 0.91992\n",
            "Epoch 105/200\n",
            "58/58 [==============================] - 0s 6ms/step - loss: 0.0010 - accuracy: 0.9993 - val_loss: 0.7556 - val_accuracy: 0.8690\n",
            "\n",
            "Epoch 00105: val_accuracy did not improve from 0.91992\n",
            "Epoch 106/200\n",
            "58/58 [==============================] - 0s 6ms/step - loss: 0.0038 - accuracy: 0.9993 - val_loss: 0.8429 - val_accuracy: 0.8761\n",
            "\n",
            "Epoch 00106: val_accuracy did not improve from 0.91992\n",
            "Epoch 107/200\n",
            "58/58 [==============================] - 0s 6ms/step - loss: 0.0021 - accuracy: 0.9997 - val_loss: 2.6111 - val_accuracy: 0.7089\n",
            "\n",
            "Epoch 00107: val_accuracy did not improve from 0.91992\n",
            "Epoch 108/200\n",
            "58/58 [==============================] - 0s 6ms/step - loss: 0.0030 - accuracy: 0.9982 - val_loss: 1.2744 - val_accuracy: 0.8185\n",
            "\n",
            "Epoch 00108: val_accuracy did not improve from 0.91992\n",
            "Epoch 109/200\n",
            "58/58 [==============================] - 0s 6ms/step - loss: 0.0080 - accuracy: 0.9971 - val_loss: 0.7339 - val_accuracy: 0.8918\n",
            "\n",
            "Epoch 00109: val_accuracy did not improve from 0.91992\n",
            "Epoch 110/200\n",
            "58/58 [==============================] - 0s 6ms/step - loss: 0.0216 - accuracy: 0.9929 - val_loss: 2.1682 - val_accuracy: 0.7370\n",
            "\n",
            "Epoch 00110: val_accuracy did not improve from 0.91992\n",
            "Epoch 111/200\n",
            "58/58 [==============================] - 0s 6ms/step - loss: 0.0050 - accuracy: 0.9991 - val_loss: 0.6235 - val_accuracy: 0.8928\n",
            "\n",
            "Epoch 00111: val_accuracy did not improve from 0.91992\n",
            "Epoch 112/200\n",
            "58/58 [==============================] - 0s 6ms/step - loss: 0.0019 - accuracy: 0.9995 - val_loss: 1.8136 - val_accuracy: 0.7397\n",
            "\n",
            "Epoch 00112: val_accuracy did not improve from 0.91992\n",
            "Epoch 113/200\n",
            "58/58 [==============================] - 0s 6ms/step - loss: 0.0062 - accuracy: 0.9973 - val_loss: 1.0758 - val_accuracy: 0.8266\n",
            "\n",
            "Epoch 00113: val_accuracy did not improve from 0.91992\n",
            "Epoch 114/200\n",
            "58/58 [==============================] - 0s 6ms/step - loss: 0.0028 - accuracy: 0.9994 - val_loss: 0.6930 - val_accuracy: 0.8782\n",
            "\n",
            "Epoch 00114: val_accuracy did not improve from 0.91992\n",
            "Epoch 115/200\n",
            "58/58 [==============================] - 0s 6ms/step - loss: 0.0047 - accuracy: 0.9984 - val_loss: 1.2802 - val_accuracy: 0.8113\n",
            "\n",
            "Epoch 00115: val_accuracy did not improve from 0.91992\n",
            "Epoch 116/200\n",
            "58/58 [==============================] - 0s 6ms/step - loss: 0.0155 - accuracy: 0.9952 - val_loss: 2.3784 - val_accuracy: 0.7160\n",
            "\n",
            "Epoch 00116: val_accuracy did not improve from 0.91992\n",
            "Epoch 117/200\n",
            "58/58 [==============================] - 0s 6ms/step - loss: 0.0199 - accuracy: 0.9929 - val_loss: 0.6589 - val_accuracy: 0.8955\n",
            "\n",
            "Epoch 00117: val_accuracy did not improve from 0.91992\n",
            "Epoch 118/200\n",
            "58/58 [==============================] - 0s 6ms/step - loss: 0.0060 - accuracy: 0.9984 - val_loss: 0.5817 - val_accuracy: 0.8795\n",
            "\n",
            "Epoch 00118: val_accuracy did not improve from 0.91992\n",
            "Epoch 119/200\n",
            "58/58 [==============================] - 0s 6ms/step - loss: 0.0111 - accuracy: 0.9980 - val_loss: 0.5587 - val_accuracy: 0.8921\n",
            "\n",
            "Epoch 00119: val_accuracy did not improve from 0.91992\n",
            "Epoch 120/200\n",
            "58/58 [==============================] - 0s 6ms/step - loss: 0.0045 - accuracy: 0.9979 - val_loss: 1.0294 - val_accuracy: 0.8252\n",
            "\n",
            "Epoch 00120: val_accuracy did not improve from 0.91992\n",
            "Epoch 121/200\n",
            "58/58 [==============================] - 0s 6ms/step - loss: 0.0023 - accuracy: 0.9988 - val_loss: 1.1456 - val_accuracy: 0.8300\n",
            "\n",
            "Epoch 00121: val_accuracy did not improve from 0.91992\n",
            "Epoch 122/200\n",
            "58/58 [==============================] - 0s 6ms/step - loss: 0.0017 - accuracy: 0.9998 - val_loss: 0.7723 - val_accuracy: 0.8890\n",
            "\n",
            "Epoch 00122: val_accuracy did not improve from 0.91992\n",
            "Epoch 123/200\n",
            "58/58 [==============================] - 0s 6ms/step - loss: 0.0041 - accuracy: 0.9985 - val_loss: 1.0689 - val_accuracy: 0.8392\n",
            "\n",
            "Epoch 00123: val_accuracy did not improve from 0.91992\n",
            "Epoch 124/200\n",
            "58/58 [==============================] - 0s 6ms/step - loss: 0.0027 - accuracy: 0.9993 - val_loss: 0.9565 - val_accuracy: 0.8466\n",
            "\n",
            "Epoch 00124: val_accuracy did not improve from 0.91992\n",
            "Epoch 125/200\n",
            "58/58 [==============================] - 0s 6ms/step - loss: 0.0012 - accuracy: 0.9998 - val_loss: 0.8819 - val_accuracy: 0.8649\n",
            "\n",
            "Epoch 00125: val_accuracy did not improve from 0.91992\n",
            "Epoch 126/200\n",
            "58/58 [==============================] - 0s 6ms/step - loss: 0.0068 - accuracy: 0.9976 - val_loss: 1.0189 - val_accuracy: 0.8531\n",
            "\n",
            "Epoch 00126: val_accuracy did not improve from 0.91992\n",
            "Epoch 127/200\n",
            "58/58 [==============================] - 0s 6ms/step - loss: 0.0027 - accuracy: 0.9994 - val_loss: 1.0724 - val_accuracy: 0.8558\n",
            "\n",
            "Epoch 00127: val_accuracy did not improve from 0.91992\n",
            "Epoch 128/200\n",
            "58/58 [==============================] - 0s 6ms/step - loss: 0.0016 - accuracy: 0.9995 - val_loss: 0.9470 - val_accuracy: 0.8588\n",
            "\n",
            "Epoch 00128: val_accuracy did not improve from 0.91992\n",
            "Epoch 129/200\n",
            "58/58 [==============================] - 0s 6ms/step - loss: 0.0028 - accuracy: 0.9986 - val_loss: 1.6827 - val_accuracy: 0.7896\n",
            "\n",
            "Epoch 00129: val_accuracy did not improve from 0.91992\n",
            "Epoch 130/200\n",
            "58/58 [==============================] - 0s 6ms/step - loss: 0.0027 - accuracy: 0.9991 - val_loss: 0.8881 - val_accuracy: 0.8690\n",
            "\n",
            "Epoch 00130: val_accuracy did not improve from 0.91992\n",
            "Epoch 131/200\n",
            "58/58 [==============================] - 0s 6ms/step - loss: 8.1313e-04 - accuracy: 0.9997 - val_loss: 1.5106 - val_accuracy: 0.8273\n",
            "\n",
            "Epoch 00131: val_accuracy did not improve from 0.91992\n",
            "Epoch 132/200\n",
            "58/58 [==============================] - 0s 6ms/step - loss: 0.0019 - accuracy: 0.9996 - val_loss: 1.3496 - val_accuracy: 0.8368\n",
            "\n",
            "Epoch 00132: val_accuracy did not improve from 0.91992\n",
            "Epoch 133/200\n",
            "58/58 [==============================] - 0s 6ms/step - loss: 0.0046 - accuracy: 0.9985 - val_loss: 1.1455 - val_accuracy: 0.8361\n",
            "\n",
            "Epoch 00133: val_accuracy did not improve from 0.91992\n",
            "Epoch 134/200\n",
            "58/58 [==============================] - 0s 6ms/step - loss: 0.0215 - accuracy: 0.9941 - val_loss: 2.2312 - val_accuracy: 0.6844\n",
            "\n",
            "Epoch 00134: val_accuracy did not improve from 0.91992\n",
            "Epoch 135/200\n",
            "58/58 [==============================] - 0s 6ms/step - loss: 0.0017 - accuracy: 0.9996 - val_loss: 1.7852 - val_accuracy: 0.7754\n",
            "\n",
            "Epoch 00135: val_accuracy did not improve from 0.91992\n",
            "Epoch 136/200\n",
            "58/58 [==============================] - 0s 6ms/step - loss: 0.0053 - accuracy: 0.9974 - val_loss: 1.3525 - val_accuracy: 0.8198\n",
            "\n",
            "Epoch 00136: val_accuracy did not improve from 0.91992\n",
            "Epoch 137/200\n",
            "58/58 [==============================] - 0s 6ms/step - loss: 0.0090 - accuracy: 0.9970 - val_loss: 1.3864 - val_accuracy: 0.8205\n",
            "\n",
            "Epoch 00137: val_accuracy did not improve from 0.91992\n",
            "Epoch 138/200\n",
            "58/58 [==============================] - 0s 6ms/step - loss: 0.0054 - accuracy: 0.9985 - val_loss: 1.1760 - val_accuracy: 0.8219\n",
            "\n",
            "Epoch 00138: val_accuracy did not improve from 0.91992\n",
            "Epoch 139/200\n",
            "58/58 [==============================] - 0s 6ms/step - loss: 0.0025 - accuracy: 0.9992 - val_loss: 1.1514 - val_accuracy: 0.8361\n",
            "\n",
            "Epoch 00139: val_accuracy did not improve from 0.91992\n",
            "Epoch 140/200\n",
            "58/58 [==============================] - 0s 6ms/step - loss: 0.0013 - accuracy: 0.9993 - val_loss: 0.9487 - val_accuracy: 0.8646\n",
            "\n",
            "Epoch 00140: val_accuracy did not improve from 0.91992\n",
            "Epoch 141/200\n",
            "58/58 [==============================] - 0s 6ms/step - loss: 6.7910e-04 - accuracy: 0.9999 - val_loss: 1.8240 - val_accuracy: 0.7771\n",
            "\n",
            "Epoch 00141: val_accuracy did not improve from 0.91992\n",
            "Epoch 142/200\n",
            "58/58 [==============================] - 0s 6ms/step - loss: 0.0061 - accuracy: 0.9980 - val_loss: 1.9677 - val_accuracy: 0.7964\n",
            "\n",
            "Epoch 00142: val_accuracy did not improve from 0.91992\n",
            "Epoch 143/200\n",
            "58/58 [==============================] - 0s 6ms/step - loss: 0.0312 - accuracy: 0.9927 - val_loss: 1.0476 - val_accuracy: 0.8012\n",
            "\n",
            "Epoch 00143: val_accuracy did not improve from 0.91992\n",
            "Epoch 144/200\n",
            "58/58 [==============================] - 0s 6ms/step - loss: 0.0027 - accuracy: 0.9993 - val_loss: 0.3477 - val_accuracy: 0.9338\n",
            "\n",
            "Reached 93.00% accuracy, so stopping training!!\n",
            "\n",
            "Epoch 00144: val_accuracy improved from 0.91992 to 0.93383, saving model to HAR_weights.hdf5\n"
          ],
          "name": "stdout"
        },
        {
          "output_type": "execute_result",
          "data": {
            "text/plain": [
              "<tensorflow.python.keras.callbacks.History at 0x7fd383522490>"
            ]
          },
          "metadata": {
            "tags": []
          },
          "execution_count": 73
        }
      ]
    },
    {
      "cell_type": "code",
      "metadata": {
        "id": "qnygHlb60kNV"
      },
      "source": [
        "model.save(\"NN93.48.h5\")"
      ],
      "execution_count": null,
      "outputs": []
    },
    {
      "cell_type": "code",
      "metadata": {
        "id": "GIPFySabRezb",
        "colab": {
          "base_uri": "https://localhost:8080/"
        },
        "outputId": "50a5f464-068d-4aa9-d80e-4e744a805246"
      },
      "source": [
        "model.evaluate(X_test, y_test)"
      ],
      "execution_count": null,
      "outputs": [
        {
          "output_type": "stream",
          "text": [
            "93/93 [==============================] - 0s 1ms/step - loss: 0.3477 - accuracy: 0.9338\n"
          ],
          "name": "stdout"
        },
        {
          "output_type": "execute_result",
          "data": {
            "text/plain": [
              "[0.34773972630500793, 0.9338310360908508]"
            ]
          },
          "metadata": {
            "tags": []
          },
          "execution_count": 75
        }
      ]
    },
    {
      "cell_type": "code",
      "metadata": {
        "id": "UyMhB9jJG-oq",
        "colab": {
          "base_uri": "https://localhost:8080/"
        },
        "outputId": "2d40d436-5831-40a6-af46-f9388f35977c"
      },
      "source": [
        "from sklearn.metrics import classification_report\n",
        "y_pred = model.predict(X_test)\n",
        "# y_pred.shape\n",
        "classification_report(integer_y_test, np.argmax(y_pred, axis = 1), output_dict=True)"
      ],
      "execution_count": null,
      "outputs": [
        {
          "output_type": "execute_result",
          "data": {
            "text/plain": [
              "{'0': {'f1-score': 0.9916897506925207,\n",
              "  'precision': 0.9835164835164835,\n",
              "  'recall': 1.0,\n",
              "  'support': 537},\n",
              " '1': {'f1-score': 0.918974358974359,\n",
              "  'precision': 0.9256198347107438,\n",
              "  'recall': 0.9124236252545825,\n",
              "  'support': 491},\n",
              " '2': {'f1-score': 0.9283018867924527,\n",
              "  'precision': 0.9318181818181818,\n",
              "  'recall': 0.924812030075188,\n",
              "  'support': 532},\n",
              " '3': {'f1-score': 0.9172113289760349,\n",
              "  'precision': 0.9976303317535545,\n",
              "  'recall': 0.8487903225806451,\n",
              "  'support': 496},\n",
              " '4': {'f1-score': 0.9480198019801981,\n",
              "  'precision': 0.9871134020618557,\n",
              "  'recall': 0.9119047619047619,\n",
              "  'support': 420},\n",
              " '5': {'f1-score': 0.8971428571428571,\n",
              "  'precision': 0.8134715025906736,\n",
              "  'recall': 1.0,\n",
              "  'support': 471},\n",
              " 'accuracy': 0.9338310145911096,\n",
              " 'macro avg': {'f1-score': 0.9335566640930703,\n",
              "  'precision': 0.9398616227419155,\n",
              "  'recall': 0.9329884566358629,\n",
              "  'support': 2947},\n",
              " 'weighted avg': {'f1-score': 0.9342619042653412,\n",
              "  'precision': 0.9402484948607224,\n",
              "  'recall': 0.9338310145911096,\n",
              "  'support': 2947}}"
            ]
          },
          "metadata": {
            "tags": []
          },
          "execution_count": 76
        }
      ]
    },
    {
      "cell_type": "code",
      "metadata": {
        "colab": {
          "base_uri": "https://localhost:8080/"
        },
        "id": "0iNpE8vWk_xM",
        "outputId": "c0612064-7a43-4c4c-ec01-e9001341536b"
      },
      "source": [
        "test = pd.read_csv(\"/content/test.csv\")\n",
        "train = pd.read_csv(\"/content/train.csv\")\n",
        "X_train = train.iloc[:, : -2]\n",
        "y_train = train.iloc[:, 562:563]\n",
        "X_test = test.iloc[:, : -2]\n",
        "y_test = test.iloc[:, 562:563]\n",
        "label_encoder = LabelEncoder()\n",
        "integer_y_train = label_encoder.fit_transform(y_train)\n",
        "integer_y_test = label_encoder.transform(y_test)\n",
        "one_hot_y_train = to_categorical(integer_y_train, 6)\n",
        "one_hot_y_test = to_categorical(integer_y_test, 6)\n",
        "X_train = np.expand_dims(X_train,axis=1)\n",
        "X_test = np.expand_dims(X_test,axis=1)"
      ],
      "execution_count": null,
      "outputs": [
        {
          "output_type": "stream",
          "text": [
            "/usr/local/lib/python3.7/dist-packages/sklearn/preprocessing/_label.py:251: DataConversionWarning: A column-vector y was passed when a 1d array was expected. Please change the shape of y to (n_samples, ), for example using ravel().\n",
            "  y = column_or_1d(y, warn=True)\n",
            "/usr/local/lib/python3.7/dist-packages/sklearn/preprocessing/_label.py:268: DataConversionWarning: A column-vector y was passed when a 1d array was expected. Please change the shape of y to (n_samples, ), for example using ravel().\n",
            "  y = column_or_1d(y, warn=True)\n"
          ],
          "name": "stderr"
        }
      ]
    },
    {
      "cell_type": "code",
      "metadata": {
        "id": "xZ5oo4SKj_o7",
        "colab": {
          "base_uri": "https://localhost:8080/",
          "height": 585
        },
        "outputId": "9d9020ce-1d5c-4aed-d2e1-348fad06ad06"
      },
      "source": [
        "from sklearn.metrics import confusion_matrix\n",
        "import matplotlib.pyplot as plt\n",
        "def plot_confusion_matrix(cm,lables):\n",
        "    fig, ax = plt.subplots(figsize=(12,8)) # for plotting confusion matrix as image\n",
        "    im = ax.imshow(cm, interpolation='nearest', cmap=plt.cm.Blues)\n",
        "    ax.figure.colorbar(im, ax=ax)\n",
        "    ax.set(xticks=np.arange(cm.shape[1]),\n",
        "    yticks=np.arange(cm.shape[0]),\n",
        "    xticklabels=lables, yticklabels=lables,\n",
        "    ylabel='True label',\n",
        "    xlabel='Predicted label')\n",
        "    plt.xticks(rotation = 90)\n",
        "    thresh = cm.max() / 2.\n",
        "    for i in range(cm.shape[0]):\n",
        "        for j in range(cm.shape[1]):\n",
        "            ax.text(j, i, int(cm[i, j]),ha=\"center\", va=\"center\",color=\"white\" if cm[i, j] > thresh else \"black\")\n",
        "    fig.tight_layout()\n",
        "integer_y_pred = np.argmax(y_pred, axis = 1)\n",
        "string_y_pred = label_encoder.inverse_transform(integer_y_pred)\n",
        "cm = confusion_matrix(y_test,string_y_pred)\n",
        "plot_confusion_matrix(cm, np.unique(string_y_pred)) "
      ],
      "execution_count": null,
      "outputs": [
        {
          "output_type": "display_data",
          "data": {
            "image/png": "[encoded data removed]",
            "text/plain": [
              "<Figure size 864x576 with 2 Axes>"
            ]
          },
          "metadata": {
            "tags": [],
            "needs_background": "light"
          }
        }
      ]
    },
    {
      "cell_type": "code",
      "metadata": {
        "colab": {
          "base_uri": "https://localhost:8080/",
          "height": 350
        },
        "id": "TLzJ38Tc6Orw",
        "outputId": "51566883-7a3f-4a9a-f0c5-643a04af0613"
      },
      "source": [
        "import numpy as np \n",
        "import matplotlib.pyplot as plt \n",
        "\n",
        "\n",
        " \n",
        "data = {'Logistic Regression':95, 'Linear SVM': 96, 'Kernel SVM': 94,'Decision Tree': 87, 'Random Forest': 92, 'Neural Network': 93,  \"Conv 1-D\": 96} \n",
        "courses = list(data.keys()) \n",
        "values = list(data.values()) \n",
        "\n",
        "fig = plt.figure(figsize = (10, 5)) \n",
        "\n",
        "\n",
        "plt.bar(courses, values, color ='maroon', width = 0.4) \n",
        "\n",
        "plt.xlabel(\"Algorithms\") \n",
        "plt.ylabel(\"Accuracy Percentage\") \n",
        "plt.title(\"Accucary Obtained Using Various Algorithms\") \n",
        "plt.show() "
      ],
      "execution_count": null,
      "outputs": [
        {
          "output_type": "display_data",
          "data": {
            "image/png": "[encoded data removed]",
            "text/plain": [
              "<Figure size 720x360 with 1 Axes>"
            ]
          },
          "metadata": {
            "tags": [],
            "needs_background": "light"
          }
        }
      ]
    },
    {
      "cell_type": "code",
      "metadata": {
        "id": "uTFk--WD6Xdu"
      },
      "source": [],
      "execution_count": null,
      "outputs": []
    }
  ]
}